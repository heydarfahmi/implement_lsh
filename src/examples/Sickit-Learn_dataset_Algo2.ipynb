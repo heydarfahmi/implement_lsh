{
 "cells": [
  {
   "cell_type": "code",
   "execution_count": 11,
   "id": "1c253640",
   "metadata": {},
   "outputs": [
    {
     "name": "stdout",
     "output_type": "stream",
     "text": [
      "/home/heydar/me/BSC/FinalPorject/lsh\n"
     ]
    }
   ],
   "source": [
    "%cd /home/heydar/me/BSC/FinalPorject/lsh"
   ]
  },
  {
   "cell_type": "code",
   "execution_count": 12,
   "id": "afe63957",
   "metadata": {},
   "outputs": [],
   "source": [
    "import numpy as np\n",
    "from time import time"
   ]
  },
  {
   "cell_type": "markdown",
   "id": "4dc5fa06",
   "metadata": {},
   "source": [
    "# Loading Dataset\n",
    "## Preparing Dataset from sickit-learn\n",
    "In this example our dataset is a news group dataset."
   ]
  },
  {
   "cell_type": "code",
   "execution_count": 13,
   "id": "715b2de4",
   "metadata": {},
   "outputs": [],
   "source": [
    "from sklearn.datasets import fetch_20newsgroups\n",
    "#Load dataset\n",
    "categories = [\n",
    "    \"alt.atheism\",\n",
    "    \"talk.religion.misc\",\n",
    "    \"comp.graphics\",\n",
    "    \"sci.space\",\n",
    "]\n",
    "\n",
    "dataset = fetch_20newsgroups(\n",
    "    remove=(\"headers\", \"footers\", \"quotes\"),\n",
    "    subset=\"all\",\n",
    "    categories=categories,\n",
    "    shuffle=True,\n",
    "    random_state=42,\n",
    ")\n",
    "labels = dataset.target\n",
    "unique_labels, category_sizes = np.unique(labels, return_counts=True)"
   ]
  },
  {
   "cell_type": "markdown",
   "id": "49b94598",
   "metadata": {},
   "source": [
    "### Do TF-IDF on dataset"
   ]
  },
  {
   "cell_type": "code",
   "execution_count": 14,
   "id": "3fc42608",
   "metadata": {},
   "outputs": [],
   "source": [
    "from sklearn.feature_extraction.text import TfidfVectorizer\n",
    "vectorizer = TfidfVectorizer(\n",
    "    max_df=0.5,\n",
    "    min_df=5,\n",
    "    stop_words=\"english\",\n",
    ")"
   ]
  },
  {
   "cell_type": "code",
   "execution_count": 15,
   "id": "8f63c07f",
   "metadata": {},
   "outputs": [
    {
     "name": "stdout",
     "output_type": "stream",
     "text": [
      "vectorization done in 2.306 s\n"
     ]
    }
   ],
   "source": [
    "t0 = time()\n",
    "X_tfidf = vectorizer.fit_transform(dataset.data)\n",
    "\n",
    "print(f\"vectorization done in {time() - t0:.3f} s\")"
   ]
  },
  {
   "cell_type": "markdown",
   "id": "9e8337d2",
   "metadata": {},
   "source": [
    "after adding limit to data some of rows are empty so we need to drop them for better result."
   ]
  },
  {
   "cell_type": "code",
   "execution_count": 16,
   "id": "124a8d80",
   "metadata": {},
   "outputs": [],
   "source": [
    "drops_datas=np.where([X_tfidf.getnnz(1)<1])[1]\n",
    "nnzero_rows=X_tfidf.getnnz(1)>1\n",
    "labels=labels[nnzero_rows]\n",
    "X_tfidf=X_tfidf[nnzero_rows]"
   ]
  },
  {
   "cell_type": "code",
   "execution_count": 17,
   "id": "3af3394b",
   "metadata": {},
   "outputs": [
    {
     "name": "stdout",
     "output_type": "stream",
     "text": [
      "0.007\n"
     ]
    }
   ],
   "source": [
    "print(f\"{X_tfidf.nnz / np.prod(X_tfidf.shape):.3f}\")\n",
    "shingles = [set(vector[0].nonzero()[1]) for vector in X_tfidf]"
   ]
  },
  {
   "cell_type": "raw",
   "id": "fd107436",
   "metadata": {},
   "source": [
    "In this section, we need to shigling, we do this shingling y using th e"
   ]
  },
  {
   "cell_type": "code",
   "execution_count": 18,
   "id": "61186667",
   "metadata": {},
   "outputs": [],
   "source": [
    "# Create a copy of the CSR matrix and convert it to a COO matrix\n",
    "coo_matrix = X_tfidf.tocoo(copy=True)\n",
    "\n",
    "# Replace non-zero values with their own column indices\n",
    "coo_matrix.data = coo_matrix.col\n",
    "\n",
    "# Convert the COO matrix back to CSR format\n",
    "shingles = coo_matrix.tocsr()\n"
   ]
  },
  {
   "cell_type": "code",
   "execution_count": 19,
   "id": "7bb8c1c8",
   "metadata": {},
   "outputs": [],
   "source": [
    "#set Cluster Number\n",
    "true_k = 500\n"
   ]
  },
  {
   "cell_type": "code",
   "execution_count": 20,
   "id": "6a89e19e",
   "metadata": {},
   "outputs": [
    {
     "data": {
      "text/plain": [
       "7929"
      ]
     },
     "execution_count": 20,
     "metadata": {},
     "output_type": "execute_result"
    }
   ],
   "source": [
    "X_tfidf.shape[1]"
   ]
  },
  {
   "cell_type": "code",
   "execution_count": 21,
   "id": "21fedf66",
   "metadata": {},
   "outputs": [
    {
     "name": "stdout",
     "output_type": "stream",
     "text": [
      "waiting for Create LSH index\n",
      "LSH index Created\n"
     ]
    }
   ],
   "source": [
    "\n",
    "from src.LSH.MinHash import MinHash\n",
    "from src.LSH.lsh import LSH\n",
    "#Make LSH\n",
    "prime=8017\n",
    "lsh_time_start=time()\n",
    "b, r = 1, 1\n",
    "num_perm = b * r\n",
    "minhash = MinHash(num_perm)\n",
    "mh = minhash.sign_csr_callback_permutation(shingles, shingles.shape[1],prime)\n",
    "mh = np.array(mh)\n",
    "print('waiting for Create LSH index')\n",
    "# Create LSH index\n",
    "lsh = LSH(b=b, r=r)\n",
    "lsh.fit(mh)\n",
    "print('LSH index Created')\n",
    "lsh_time=time()-lsh_time_start"
   ]
  },
  {
   "cell_type": "code",
   "execution_count": 22,
   "id": "c55e19b1",
   "metadata": {},
   "outputs": [],
   "source": [
    "from collections import defaultdict\n",
    "from sklearn import metrics\n",
    "evaluations = []\n",
    "evaluations_std = []\n",
    "\n",
    "\n",
    "def fit_and_evaluate(km, X,lsh=None, name=None, n_runs=5,seek_time=0):\n",
    "    name = km.__class__.__name__ if name is None else name\n",
    "\n",
    "    train_times = []\n",
    "    scores = defaultdict(list)\n",
    "    for seed in range(n_runs):\n",
    "        km.random_state=seed\n",
    "        t0 = time()\n",
    "        if lsh:\n",
    "            km.fit(X,lsh)\n",
    "        else:\n",
    "            km.fit(X)\n",
    "        train_times.append(time()+seek_time - t0)\n",
    "        scores['inertia'].append(km.inertia_)\n",
    "        scores[\"Homogeneity\"].append(metrics.homogeneity_score(labels, km.labels_))\n",
    "        scores[\"Completeness\"].append(metrics.completeness_score(labels, km.labels_))\n",
    "        scores[\"V-measure\"].append(metrics.v_measure_score(labels, km.labels_))\n",
    "        scores[\"Adjusted Rand-Index\"].append(\n",
    "            metrics.adjusted_rand_score(labels, km.labels_)\n",
    "        )\n",
    "        scores[\"Silhouette Coefficient\"].append(\n",
    "            metrics.silhouette_score(X, km.labels_, sample_size=2000)\n",
    "        )\n",
    "    train_times = np.asarray(train_times)\n",
    "\n",
    "    print(f\"clustering done in {train_times.mean():.2f} ± {train_times.std():.2f} s \")\n",
    "    evaluation = {\n",
    "        \"estimator\": name,\n",
    "        \"train_time\": train_times.mean(),\n",
    "    }\n",
    "    evaluation_std = {\n",
    "        \"estimator\": name,\n",
    "        \"train_time\": train_times.std(),\n",
    "    }\n",
    "    for score_name, score_values in scores.items():\n",
    "        mean_score, std_score = np.mean(score_values), np.std(score_values)\n",
    "        print(f\"{score_name}: {mean_score:.3f} ± {std_score:.3f}\")\n",
    "        evaluation[score_name] = mean_score\n",
    "        evaluation_std[score_name] = std_score\n",
    "    evaluations.append(evaluation)\n",
    "    evaluations_std.append(evaluation_std)\n"
   ]
  },
  {
   "cell_type": "code",
   "execution_count": 48,
   "id": "84cdbcaf",
   "metadata": {},
   "outputs": [],
   "source": [
    "#Doing Fast Kmeans++\n",
    "from sklearn.cluster import KMeans\n",
    "skmeans=KMeans(n_clusters=true_k,max_iter=1,n_init=1).fit(X_tfidf)\n"
   ]
  },
  {
   "cell_type": "code",
   "execution_count": 42,
   "id": "df06867a",
   "metadata": {},
   "outputs": [
    {
     "name": "stdout",
     "output_type": "stream",
     "text": [
      "Init: initializing centers\n",
      "Init: initializing clusters\n",
      "Starting iterations...\n",
      "Run 1, iteration: 1/30, moves: 83, cost: [3113.65736841] in 5.355414867401123 seconds\n",
      "Run 1, iteration: 2/30, moves: 28, cost: [3109.69658878] in 4.681729078292847 seconds\n",
      "Run 1, iteration: 3/30, moves: 10, cost: [3108.82709229] in 4.991217613220215 seconds\n",
      "Run 1, iteration: 4/30, moves: 7, cost: [3108.39751122] in 4.5709547996521 seconds\n",
      "Run 1, iteration: 5/30, moves: 2, cost: [3107.9184377] in 4.814739942550659 seconds\n",
      "Run 1, iteration: 6/30, moves: 0, cost: [3107.87655044] in 4.88943076133728 seconds\n",
      "Run 1, iteration: 7/30, moves: 125, cost: [3105.83039382] in 14.688839673995972 seconds\n",
      "Run 1, iteration: 8/30, moves: 44, cost: [3101.41651165] in 4.723452806472778 seconds\n",
      "Run 1, iteration: 9/30, moves: 26, cost: [3099.96496334] in 4.77278470993042 seconds\n",
      "Run 1, iteration: 10/30, moves: 11, cost: [3099.07693703] in 4.67717719078064 seconds\n",
      "Run 1, iteration: 11/30, moves: 5, cost: [3098.65763582] in 4.723344564437866 seconds\n",
      "Run 1, iteration: 12/30, moves: 2, cost: [3098.52159204] in 4.604024171829224 seconds\n",
      "Run 1, iteration: 13/30, moves: 0, cost: [3098.4439238] in 4.650016784667969 seconds\n",
      "Run 1, iteration: 14/30, moves: 107, cost: [3097.73704296] in 13.176897525787354 seconds\n",
      "Run 1, iteration: 15/30, moves: 40, cost: [3094.80819362] in 4.696614742279053 seconds\n",
      "Run 1, iteration: 16/30, moves: 14, cost: [3094.00655401] in 4.690189838409424 seconds\n",
      "Run 1, iteration: 17/30, moves: 4, cost: [3093.7707396] in 4.627614259719849 seconds\n",
      "Run 1, iteration: 18/30, moves: 2, cost: [3093.68941207] in 4.680694818496704 seconds\n",
      "Run 1, iteration: 19/30, moves: 0, cost: [3093.64995681] in 4.613080024719238 seconds\n",
      "Run 1, iteration: 20/30, moves: 51, cost: [3093.28434359] in 12.956156015396118 seconds\n",
      "Run 1, iteration: 21/30, moves: 16, cost: [3092.16518248] in 4.663331031799316 seconds\n",
      "Run 1, iteration: 22/30, moves: 6, cost: [3091.87474964] in 4.613921165466309 seconds\n",
      "Run 1, iteration: 23/30, moves: 3, cost: [3091.80184586] in 4.906942367553711 seconds\n",
      "Run 1, iteration: 24/30, moves: 0, cost: [3091.73752397] in 4.642854452133179 seconds\n",
      "Run 1, iteration: 25/30, moves: 29, cost: [3091.67147691] in 13.20058560371399 seconds\n",
      "Run 1, iteration: 26/30, moves: 13, cost: [3091.09405996] in 4.786795616149902 seconds\n",
      "Run 1, iteration: 27/30, moves: 0, cost: [3090.84594281] in 6.065985441207886 seconds\n",
      "Run 1, iteration: 28/30, moves: 12, cost: [3090.82445181] in 15.387638330459595 seconds\n",
      "Run 1, iteration: 29/30, moves: 6, cost: [3090.51172135] in 5.537723779678345 seconds\n",
      "Run 1, iteration: 30/30, moves: 3, cost: [3090.41746328] in 6.666701078414917 seconds\n",
      "Init: initializing centers\n",
      "Init: initializing clusters\n",
      "Starting iterations...\n",
      "Run 1, iteration: 1/30, moves: 87, cost: [3113.28353917] in 6.5637428760528564 seconds\n",
      "Run 1, iteration: 2/30, moves: 26, cost: [3109.16215403] in 5.500143527984619 seconds\n",
      "Run 1, iteration: 3/30, moves: 9, cost: [3108.12439211] in 5.3646039962768555 seconds\n",
      "Run 1, iteration: 4/30, moves: 3, cost: [3107.74873277] in 5.414439916610718 seconds\n",
      "Run 1, iteration: 5/30, moves: 2, cost: [3107.67940993] in 5.569585561752319 seconds\n",
      "Run 1, iteration: 6/30, moves: 1, cost: [3107.6529574] in 5.456360816955566 seconds\n",
      "Run 1, iteration: 7/30, moves: 0, cost: [3107.64130015] in 5.645469427108765 seconds\n",
      "Run 1, iteration: 8/30, moves: 127, cost: [3105.78640681] in 14.734216928482056 seconds\n",
      "Run 1, iteration: 9/30, moves: 34, cost: [3101.34709042] in 5.831143379211426 seconds\n",
      "Run 1, iteration: 10/30, moves: 16, cost: [3100.094877] in 5.399595260620117 seconds\n",
      "Run 1, iteration: 11/30, moves: 10, cost: [3099.48551759] in 5.571954250335693 seconds\n",
      "Run 1, iteration: 12/30, moves: 2, cost: [3099.12447133] in 5.5105531215667725 seconds\n",
      "Run 1, iteration: 13/30, moves: 2, cost: [3099.10683644] in 5.2451159954071045 seconds\n",
      "Run 1, iteration: 14/30, moves: 1, cost: [3099.06801832] in 6.042384147644043 seconds\n",
      "Run 1, iteration: 15/30, moves: 1, cost: [3099.04365546] in 5.622058629989624 seconds\n",
      "Run 1, iteration: 16/30, moves: 1, cost: [3099.02882297] in 5.783901691436768 seconds\n",
      "Run 1, iteration: 17/30, moves: 1, cost: [3099.0090023] in 5.479979991912842 seconds\n",
      "Run 1, iteration: 18/30, moves: 0, cost: [3098.99402982] in 5.28911280632019 seconds\n",
      "Run 1, iteration: 19/30, moves: 95, cost: [3098.36668663] in 14.752832174301147 seconds\n",
      "Run 1, iteration: 20/30, moves: 38, cost: [3095.79244383] in 6.002017021179199 seconds\n",
      "Run 1, iteration: 21/30, moves: 14, cost: [3094.94869784] in 7.847429513931274 seconds\n",
      "Run 1, iteration: 22/30, moves: 4, cost: [3094.66881639] in 8.667786836624146 seconds\n",
      "Run 1, iteration: 23/30, moves: 3, cost: [3094.58498041] in 6.504987478256226 seconds\n",
      "Run 1, iteration: 24/30, moves: 1, cost: [3094.52199625] in 5.681767463684082 seconds\n",
      "Run 1, iteration: 25/30, moves: 0, cost: [3094.49769997] in 5.236649513244629 seconds\n",
      "Run 1, iteration: 26/30, moves: 61, cost: [3094.11837779] in 23.22950577735901 seconds\n",
      "Run 1, iteration: 27/30, moves: 17, cost: [3092.49851831] in 6.6031882762908936 seconds\n",
      "Run 1, iteration: 28/30, moves: 4, cost: [3092.04551055] in 5.7432801723480225 seconds\n",
      "Run 1, iteration: 29/30, moves: 2, cost: [3091.98169561] in 6.050229549407959 seconds\n",
      "Run 1, iteration: 30/30, moves: 0, cost: [3091.9334136] in 5.5134971141815186 seconds\n",
      "Init: initializing centers\n",
      "Init: initializing clusters\n",
      "Starting iterations...\n",
      "Run 1, iteration: 1/30, moves: 92, cost: [3112.34372287] in 6.500731945037842 seconds\n",
      "Run 1, iteration: 2/30, moves: 32, cost: [3108.08690907] in 6.356330394744873 seconds\n",
      "Run 1, iteration: 3/30, moves: 12, cost: [3106.88100696] in 6.215864419937134 seconds\n",
      "Run 1, iteration: 4/30, moves: 4, cost: [3106.43997162] in 6.621236801147461 seconds\n",
      "Run 1, iteration: 5/30, moves: 2, cost: [3106.35332996] in 6.267583608627319 seconds\n",
      "Run 1, iteration: 6/30, moves: 1, cost: [3106.30888965] in 6.291475534439087 seconds\n",
      "Run 1, iteration: 7/30, moves: 1, cost: [3106.2712904] in 6.309530735015869 seconds\n",
      "Run 1, iteration: 8/30, moves: 0, cost: [3106.22985189] in 6.582124710083008 seconds\n",
      "Run 1, iteration: 9/30, moves: 110, cost: [3104.36644871] in 18.26246953010559 seconds\n",
      "Run 1, iteration: 10/30, moves: 38, cost: [3100.52276524] in 6.805359125137329 seconds\n",
      "Run 1, iteration: 11/30, moves: 22, cost: [3099.24254503] in 6.8511741161346436 seconds\n",
      "Run 1, iteration: 12/30, moves: 14, cost: [3098.49463964] in 7.159750938415527 seconds\n",
      "Run 1, iteration: 13/30, moves: 3, cost: [3097.97167481] in 7.224819183349609 seconds\n",
      "Run 1, iteration: 14/30, moves: 0, cost: [3097.92187222] in 6.294222593307495 seconds\n",
      "Run 1, iteration: 15/30, moves: 84, cost: [3097.38732885] in 17.329530715942383 seconds\n",
      "Run 1, iteration: 16/30, moves: 24, cost: [3095.1364792] in 5.403144121170044 seconds\n",
      "Run 1, iteration: 17/30, moves: 6, cost: [3094.61842908] in 6.497442007064819 seconds\n",
      "Run 1, iteration: 18/30, moves: 2, cost: [3094.51931583] in 6.496402025222778 seconds\n",
      "Run 1, iteration: 19/30, moves: 0, cost: [3094.49738158] in 5.447085857391357 seconds\n",
      "Run 1, iteration: 20/30, moves: 57, cost: [3094.25836013] in 17.6918306350708 seconds\n",
      "Run 1, iteration: 21/30, moves: 13, cost: [3092.98122489] in 5.932058095932007 seconds\n",
      "Run 1, iteration: 22/30, moves: 4, cost: [3092.62511202] in 5.683775186538696 seconds\n",
      "Run 1, iteration: 23/30, moves: 0, cost: [3092.54984935] in 5.689093351364136 seconds\n",
      "Run 1, iteration: 24/30, moves: 31, cost: [3092.46538415] in 14.94344162940979 seconds\n",
      "Run 1, iteration: 25/30, moves: 10, cost: [3091.81657895] in 6.774049997329712 seconds\n",
      "Run 1, iteration: 26/30, moves: 6, cost: [3091.69437482] in 6.615294456481934 seconds\n",
      "Run 1, iteration: 27/30, moves: 2, cost: [3091.58583375] in 6.181120872497559 seconds\n",
      "Run 1, iteration: 28/30, moves: 0, cost: [3091.5573991] in 6.059464931488037 seconds\n",
      "Run 1, iteration: 29/30, moves: 11, cost: [3091.54011309] in 16.03446364402771 seconds\n",
      "Run 1, iteration: 30/30, moves: 2, cost: [3091.33500567] in 6.0859575271606445 seconds\n",
      "Init: initializing centers\n",
      "Init: initializing clusters\n",
      "Starting iterations...\n",
      "Run 1, iteration: 1/30, moves: 84, cost: [3113.42561373] in 11.799306631088257 seconds\n",
      "Run 1, iteration: 2/30, moves: 32, cost: [3109.33038565] in 12.145977973937988 seconds\n"
     ]
    },
    {
     "name": "stdout",
     "output_type": "stream",
     "text": [
      "Run 1, iteration: 3/30, moves: 14, cost: [3108.05799466] in 12.432545185089111 seconds\n",
      "Run 1, iteration: 4/30, moves: 6, cost: [3107.5169644] in 11.86666226387024 seconds\n",
      "Run 1, iteration: 5/30, moves: 2, cost: [3107.38520415] in 11.292482852935791 seconds\n",
      "Run 1, iteration: 6/30, moves: 1, cost: [3107.33802719] in 6.727179527282715 seconds\n",
      "Run 1, iteration: 7/30, moves: 0, cost: [3107.32084198] in 8.580362319946289 seconds\n",
      "Run 1, iteration: 8/30, moves: 124, cost: [3105.42987015] in 31.56016707420349 seconds\n",
      "Run 1, iteration: 9/30, moves: 40, cost: [3101.06886151] in 12.338690280914307 seconds\n",
      "Run 1, iteration: 10/30, moves: 23, cost: [3099.73461367] in 11.7288498878479 seconds\n",
      "Run 1, iteration: 11/30, moves: 15, cost: [3098.92641031] in 12.0263512134552 seconds\n",
      "Run 1, iteration: 12/30, moves: 5, cost: [3098.44997793] in 11.86854076385498 seconds\n",
      "Run 1, iteration: 13/30, moves: 1, cost: [3098.3561461] in 4.662065267562866 seconds\n",
      "Run 1, iteration: 14/30, moves: 0, cost: [3098.32885936] in 4.403681993484497 seconds\n",
      "Run 1, iteration: 15/30, moves: 100, cost: [3097.67599144] in 12.062004804611206 seconds\n",
      "Run 1, iteration: 16/30, moves: 39, cost: [3095.09863136] in 4.44296932220459 seconds\n",
      "Run 1, iteration: 17/30, moves: 13, cost: [3094.32231003] in 4.378852367401123 seconds\n",
      "Run 1, iteration: 18/30, moves: 1, cost: [3094.07109971] in 4.423866510391235 seconds\n",
      "Run 1, iteration: 19/30, moves: 0, cost: [3094.05234346] in 4.376449108123779 seconds\n",
      "Run 1, iteration: 20/30, moves: 56, cost: [3093.74632227] in 12.217683553695679 seconds\n",
      "Run 1, iteration: 21/30, moves: 21, cost: [3092.33942112] in 4.405839443206787 seconds\n",
      "Run 1, iteration: 22/30, moves: 6, cost: [3091.88234225] in 4.43665623664856 seconds\n",
      "Run 1, iteration: 23/30, moves: 2, cost: [3091.70984129] in 4.419013500213623 seconds\n",
      "Run 1, iteration: 24/30, moves: 0, cost: [3091.67249104] in 4.4658203125 seconds\n",
      "Run 1, iteration: 25/30, moves: 31, cost: [3091.58495343] in 11.905587196350098 seconds\n",
      "Run 1, iteration: 26/30, moves: 14, cost: [3090.92700332] in 4.451784133911133 seconds\n",
      "Run 1, iteration: 27/30, moves: 4, cost: [3090.69204602] in 4.408449172973633 seconds\n",
      "Run 1, iteration: 28/30, moves: 1, cost: [3090.63029067] in 4.372420787811279 seconds\n",
      "Run 1, iteration: 29/30, moves: 0, cost: [3090.58815079] in 4.416381120681763 seconds\n",
      "Run 1, iteration: 30/30, moves: 24, cost: [3090.55396268] in 11.926018476486206 seconds\n",
      "Init: initializing centers\n",
      "Init: initializing clusters\n",
      "Starting iterations...\n",
      "Run 1, iteration: 1/30, moves: 75, cost: [3111.17369606] in 4.5330588817596436 seconds\n",
      "Run 1, iteration: 2/30, moves: 35, cost: [3108.47014773] in 4.452856063842773 seconds\n",
      "Run 1, iteration: 3/30, moves: 10, cost: [3107.27679606] in 4.439268350601196 seconds\n",
      "Run 1, iteration: 4/30, moves: 3, cost: [3106.8746794] in 4.396151781082153 seconds\n",
      "Run 1, iteration: 5/30, moves: 2, cost: [3106.80181509] in 4.464837312698364 seconds\n",
      "Run 1, iteration: 6/30, moves: 1, cost: [3106.75178775] in 4.45704460144043 seconds\n",
      "Run 1, iteration: 7/30, moves: 4, cost: [3106.71751502] in 4.409955024719238 seconds\n",
      "Run 1, iteration: 8/30, moves: 1, cost: [3106.6403229] in 4.422451496124268 seconds\n",
      "Run 1, iteration: 9/30, moves: 1, cost: [3106.61227577] in 4.423319101333618 seconds\n",
      "Run 1, iteration: 10/30, moves: 0, cost: [3106.59543609] in 4.438869953155518 seconds\n",
      "Run 1, iteration: 11/30, moves: 124, cost: [3105.12023457] in 12.141532897949219 seconds\n",
      "Run 1, iteration: 12/30, moves: 47, cost: [3100.91493108] in 4.501579284667969 seconds\n",
      "Run 1, iteration: 13/30, moves: 25, cost: [3099.31861567] in 4.379537105560303 seconds\n",
      "Run 1, iteration: 14/30, moves: 12, cost: [3098.45684286] in 4.46246862411499 seconds\n",
      "Run 1, iteration: 15/30, moves: 5, cost: [3098.09436348] in 4.725438594818115 seconds\n",
      "Run 1, iteration: 16/30, moves: 3, cost: [3098.02618872] in 4.727522373199463 seconds\n",
      "Run 1, iteration: 17/30, moves: 0, cost: [3097.96304391] in 5.271355390548706 seconds\n",
      "Run 1, iteration: 18/30, moves: 103, cost: [3097.27543865] in 13.565603494644165 seconds\n",
      "Run 1, iteration: 19/30, moves: 40, cost: [3094.39903038] in 4.844650030136108 seconds\n",
      "Run 1, iteration: 20/30, moves: 16, cost: [3093.4639052] in 4.794703245162964 seconds\n",
      "Run 1, iteration: 21/30, moves: 8, cost: [3093.06879177] in 4.769052743911743 seconds\n",
      "Run 1, iteration: 22/30, moves: 4, cost: [3092.86161799] in 4.849220275878906 seconds\n",
      "Run 1, iteration: 23/30, moves: 0, cost: [3092.74938839] in 4.673234939575195 seconds\n",
      "Run 1, iteration: 24/30, moves: 65, cost: [3092.40650498] in 13.409724473953247 seconds\n",
      "Run 1, iteration: 25/30, moves: 16, cost: [3090.74365642] in 4.801575422286987 seconds\n",
      "Run 1, iteration: 26/30, moves: 4, cost: [3090.47941413] in 4.820298671722412 seconds\n",
      "Run 1, iteration: 27/30, moves: 1, cost: [3090.43019596] in 4.987244129180908 seconds\n",
      "Run 1, iteration: 28/30, moves: 0, cost: [3090.42297513] in 4.951462507247925 seconds\n",
      "Run 1, iteration: 29/30, moves: 32, cost: [3090.34885949] in 13.585103750228882 seconds\n",
      "Run 1, iteration: 30/30, moves: 9, cost: [3089.59043619] in 4.638509511947632 seconds\n",
      "clustering done in 1127.55 ± 423.32 s \n",
      "inertia: 3090.766 ± 0.804\n",
      "Homogeneity: 0.453 ± 0.001\n",
      "Completeness: 0.145 ± 0.001\n",
      "V-measure: 0.219 ± 0.001\n",
      "Adjusted Rand-Index: 0.036 ± 0.001\n",
      "Silhouette Coefficient: 0.012 ± 0.001\n"
     ]
    }
   ],
   "source": [
    "from src.Kmeans.mh_kmeans import MHKmeans\n",
    "\n",
    "mh_kmeas=MHKmeans(\n",
    "    n_clusters=true_k,\n",
    "    max_iteration=30,\n",
    "    n_init=1,\n",
    "    verbose=True,\n",
    "    \n",
    "    init=skmeans.cluster_centers_\n",
    ")\n",
    "fit_and_evaluate(mh_kmeas, X_tfidf,lsh, name=\"Mh KMeans++ \\non  tf-idf vectors\", n_runs=5)\n"
   ]
  },
  {
   "cell_type": "code",
   "execution_count": 9,
   "id": "e0effb87",
   "metadata": {},
   "outputs": [],
   "source": [
    "from src.Kmeans.kmeans import Kmeans\n"
   ]
  },
  {
   "cell_type": "code",
   "execution_count": 23,
   "id": "20a55247",
   "metadata": {},
   "outputs": [
    {
     "name": "stdout",
     "output_type": "stream",
     "text": [
      "Init: initializing centers\n"
     ]
    },
    {
     "name": "stderr",
     "output_type": "stream",
     "text": [
      "ERROR:root:Internal Python error in the inspect module.\n",
      "Below is the traceback from this internal error.\n",
      "\n"
     ]
    },
    {
     "name": "stdout",
     "output_type": "stream",
     "text": [
      "Traceback (most recent call last):\n",
      "  File \"/home/heydar/.local/lib/python3.8/site-packages/IPython/core/interactiveshell.py\", line 3457, in run_code\n",
      "    exec(code_obj, self.user_global_ns, self.user_ns)\n",
      "  File \"/tmp/ipykernel_20507/260938349.py\", line 10, in <module>\n",
      "    fit_and_evaluate(simple_kmeans, X_tfidf,None, name=\"KMeans random \\non  tf-idf vectors\", n_runs=5)\n",
      "  File \"/tmp/ipykernel_20507/3734144126.py\", line 18, in fit_and_evaluate\n",
      "    km.fit(X)\n",
      "  File \"/home/heydar/me/BSC/FinalPorject/lsh/src/Kmeans/kmeans.py\", line 470, in fit\n",
      "    centroids = self._init_centroids(\n",
      "  File \"/home/heydar/me/BSC/FinalPorject/lsh/src/Kmeans/kmeans.py\", line 569, in _init_centroids\n",
      "    centroids= _kmeans_plusplus(\n",
      "  File \"/home/heydar/me/BSC/FinalPorject/lsh/src/Kmeans/kmeans.py\", line 64, in _kmeans_plusplus\n",
      "    _diss = fdissimilarity(centroids[:k_selected, :], curpoint)\n",
      "  File \"/home/heydar/.local/lib/python3.8/site-packages/sklearn/metrics/pairwise.py\", line 330, in euclidean_distances\n",
      "    return _euclidean_distances(X, Y, X_norm_squared, Y_norm_squared, squared)\n",
      "  File \"/home/heydar/.local/lib/python3.8/site-packages/sklearn/metrics/pairwise.py\", line 371, in _euclidean_distances\n",
      "    distances = -2 * safe_sparse_dot(X, Y.T, dense_output=True)\n",
      "  File \"/home/heydar/.local/lib/python3.8/site-packages/sklearn/utils/extmath.py\", line 152, in safe_sparse_dot\n",
      "    ret = a @ b\n",
      "  File \"/home/heydar/.local/lib/python3.8/site-packages/scipy/sparse/base.py\", line 566, in __rmatmul__\n",
      "    return self.__rmul__(other)\n",
      "  File \"/home/heydar/.local/lib/python3.8/site-packages/scipy/sparse/base.py\", line 550, in __rmul__\n",
      "    return (self.transpose() * tr).transpose()\n",
      "  File \"/home/heydar/.local/lib/python3.8/site-packages/scipy/sparse/base.py\", line 471, in __mul__\n",
      "    return self._mul_multivector(other)\n",
      "  File \"/home/heydar/.local/lib/python3.8/site-packages/scipy/sparse/compressed.py\", line 492, in _mul_multivector\n",
      "    other.ravel(), result.ravel())\n",
      "KeyboardInterrupt\n",
      "\n",
      "During handling of the above exception, another exception occurred:\n",
      "\n",
      "Traceback (most recent call last):\n",
      "  File \"/home/heydar/.local/lib/python3.8/site-packages/IPython/core/interactiveshell.py\", line 2077, in showtraceback\n",
      "    stb = value._render_traceback_()\n",
      "AttributeError: 'KeyboardInterrupt' object has no attribute '_render_traceback_'\n",
      "\n",
      "During handling of the above exception, another exception occurred:\n",
      "\n",
      "Traceback (most recent call last):\n",
      "  File \"/home/heydar/.local/lib/python3.8/site-packages/IPython/core/ultratb.py\", line 1101, in get_records\n",
      "    return _fixed_getinnerframes(etb, number_of_lines_of_context, tb_offset)\n",
      "  File \"/home/heydar/.local/lib/python3.8/site-packages/IPython/core/ultratb.py\", line 248, in wrapped\n",
      "    return f(*args, **kwargs)\n",
      "  File \"/home/heydar/.local/lib/python3.8/site-packages/IPython/core/ultratb.py\", line 281, in _fixed_getinnerframes\n",
      "    records = fix_frame_records_filenames(inspect.getinnerframes(etb, context))\n",
      "  File \"/usr/lib/python3.8/inspect.py\", line 1515, in getinnerframes\n",
      "    frameinfo = (tb.tb_frame,) + getframeinfo(tb, context)\n",
      "  File \"/usr/lib/python3.8/inspect.py\", line 1477, in getframeinfo\n",
      "    lines, lnum = findsource(frame)\n",
      "  File \"/home/heydar/.local/lib/python3.8/site-packages/IPython/core/ultratb.py\", line 182, in findsource\n",
      "    lines = linecache.getlines(file, globals_dict)\n",
      "  File \"/usr/lib/python3.8/linecache.py\", line 47, in getlines\n",
      "    return updatecache(filename, module_globals)\n",
      "  File \"/usr/lib/python3.8/linecache.py\", line 137, in updatecache\n",
      "    lines = fp.readlines()\n",
      "  File \"/usr/lib/python3.8/codecs.py\", line 319, in decode\n",
      "    def decode(self, input, final=False):\n",
      "KeyboardInterrupt\n"
     ]
    },
    {
     "ename": "TypeError",
     "evalue": "object of type 'NoneType' has no len()",
     "output_type": "error",
     "traceback": [
      "\u001b[0;31m---------------------------------------------------------------------------\u001b[0m",
      "\u001b[0;31mKeyboardInterrupt\u001b[0m                         Traceback (most recent call last)",
      "    \u001b[0;31m[... skipping hidden 1 frame]\u001b[0m\n",
      "\u001b[0;32m/tmp/ipykernel_20507/260938349.py\u001b[0m in \u001b[0;36m<module>\u001b[0;34m\u001b[0m\n\u001b[1;32m      9\u001b[0m \u001b[0;34m\u001b[0m\u001b[0m\n\u001b[0;32m---> 10\u001b[0;31m \u001b[0mfit_and_evaluate\u001b[0m\u001b[0;34m(\u001b[0m\u001b[0msimple_kmeans\u001b[0m\u001b[0;34m,\u001b[0m \u001b[0mX_tfidf\u001b[0m\u001b[0;34m,\u001b[0m\u001b[0;32mNone\u001b[0m\u001b[0;34m,\u001b[0m \u001b[0mname\u001b[0m\u001b[0;34m=\u001b[0m\u001b[0;34m\"KMeans random \\non  tf-idf vectors\"\u001b[0m\u001b[0;34m,\u001b[0m \u001b[0mn_runs\u001b[0m\u001b[0;34m=\u001b[0m\u001b[0;36m5\u001b[0m\u001b[0;34m)\u001b[0m\u001b[0;34m\u001b[0m\u001b[0;34m\u001b[0m\u001b[0m\n\u001b[0m",
      "\u001b[0;32m/tmp/ipykernel_20507/3734144126.py\u001b[0m in \u001b[0;36mfit_and_evaluate\u001b[0;34m(km, X, lsh, name, n_runs, seek_time)\u001b[0m\n\u001b[1;32m     17\u001b[0m         \u001b[0;32melse\u001b[0m\u001b[0;34m:\u001b[0m\u001b[0;34m\u001b[0m\u001b[0;34m\u001b[0m\u001b[0m\n\u001b[0;32m---> 18\u001b[0;31m             \u001b[0mkm\u001b[0m\u001b[0;34m.\u001b[0m\u001b[0mfit\u001b[0m\u001b[0;34m(\u001b[0m\u001b[0mX\u001b[0m\u001b[0;34m)\u001b[0m\u001b[0;34m\u001b[0m\u001b[0;34m\u001b[0m\u001b[0m\n\u001b[0m\u001b[1;32m     19\u001b[0m         \u001b[0mtrain_times\u001b[0m\u001b[0;34m.\u001b[0m\u001b[0mappend\u001b[0m\u001b[0;34m(\u001b[0m\u001b[0mtime\u001b[0m\u001b[0;34m(\u001b[0m\u001b[0;34m)\u001b[0m\u001b[0;34m+\u001b[0m\u001b[0mseek_time\u001b[0m \u001b[0;34m-\u001b[0m \u001b[0mt0\u001b[0m\u001b[0;34m)\u001b[0m\u001b[0;34m\u001b[0m\u001b[0;34m\u001b[0m\u001b[0m\n",
      "\u001b[0;32m~/me/BSC/FinalPorject/lsh/src/Kmeans/kmeans.py\u001b[0m in \u001b[0;36mfit\u001b[0;34m(self, X, **kwargs)\u001b[0m\n\u001b[1;32m    469\u001b[0m             \u001b[0mprint\u001b[0m\u001b[0;34m(\u001b[0m\u001b[0;34m\"Init: initializing centers\"\u001b[0m\u001b[0;34m)\u001b[0m\u001b[0;34m\u001b[0m\u001b[0;34m\u001b[0m\u001b[0m\n\u001b[0;32m--> 470\u001b[0;31m             centroids = self._init_centroids(\n\u001b[0m\u001b[1;32m    471\u001b[0m                 \u001b[0mX\u001b[0m\u001b[0;34m,\u001b[0m\u001b[0;34m\u001b[0m\u001b[0;34m\u001b[0m\u001b[0m\n",
      "\u001b[0;32m~/me/BSC/FinalPorject/lsh/src/Kmeans/kmeans.py\u001b[0m in \u001b[0;36m_init_centroids\u001b[0;34m(self, X, init, random_state)\u001b[0m\n\u001b[1;32m    568\u001b[0m         \u001b[0;32melif\u001b[0m \u001b[0misinstance\u001b[0m\u001b[0;34m(\u001b[0m\u001b[0minit\u001b[0m\u001b[0;34m,\u001b[0m \u001b[0mstr\u001b[0m\u001b[0;34m)\u001b[0m \u001b[0;32mand\u001b[0m \u001b[0minit\u001b[0m\u001b[0;34m.\u001b[0m\u001b[0mlower\u001b[0m\u001b[0;34m(\u001b[0m\u001b[0;34m)\u001b[0m \u001b[0;34m==\u001b[0m \u001b[0;34m'kmeans++'\u001b[0m\u001b[0;34m:\u001b[0m\u001b[0;34m\u001b[0m\u001b[0;34m\u001b[0m\u001b[0m\n\u001b[0;32m--> 569\u001b[0;31m             centroids= _kmeans_plusplus(\n\u001b[0m\u001b[1;32m    570\u001b[0m                 \u001b[0mX\u001b[0m\u001b[0;34m,\u001b[0m\u001b[0;34m\u001b[0m\u001b[0;34m\u001b[0m\u001b[0m\n",
      "\u001b[0;32m~/me/BSC/FinalPorject/lsh/src/Kmeans/kmeans.py\u001b[0m in \u001b[0;36m_kmeans_plusplus\u001b[0;34m(X, n_clusters, random_state, fdissimilarity)\u001b[0m\n\u001b[1;32m     63\u001b[0m         \u001b[0;32mfor\u001b[0m \u001b[0mipoint\u001b[0m\u001b[0;34m,\u001b[0m \u001b[0mcurpoint\u001b[0m \u001b[0;32min\u001b[0m \u001b[0menumerate\u001b[0m\u001b[0;34m(\u001b[0m\u001b[0mX\u001b[0m\u001b[0;34m)\u001b[0m\u001b[0;34m:\u001b[0m\u001b[0;34m\u001b[0m\u001b[0;34m\u001b[0m\u001b[0m\n\u001b[0;32m---> 64\u001b[0;31m             \u001b[0m_diss\u001b[0m \u001b[0;34m=\u001b[0m \u001b[0mfdissimilarity\u001b[0m\u001b[0;34m(\u001b[0m\u001b[0mcentroids\u001b[0m\u001b[0;34m[\u001b[0m\u001b[0;34m:\u001b[0m\u001b[0mk_selected\u001b[0m\u001b[0;34m,\u001b[0m \u001b[0;34m:\u001b[0m\u001b[0;34m]\u001b[0m\u001b[0;34m,\u001b[0m \u001b[0mcurpoint\u001b[0m\u001b[0;34m)\u001b[0m\u001b[0;34m\u001b[0m\u001b[0;34m\u001b[0m\u001b[0m\n\u001b[0m\u001b[1;32m     65\u001b[0m             \u001b[0mdist_from_centers\u001b[0m\u001b[0;34m[\u001b[0m\u001b[0mipoint\u001b[0m\u001b[0;34m]\u001b[0m\u001b[0;34m=\u001b[0m \u001b[0mnp\u001b[0m\u001b[0;34m.\u001b[0m\u001b[0mmin\u001b[0m\u001b[0;34m(\u001b[0m\u001b[0m_diss\u001b[0m\u001b[0;34m)\u001b[0m\u001b[0;34m\u001b[0m\u001b[0;34m\u001b[0m\u001b[0m\n",
      "\u001b[0;32m~/.local/lib/python3.8/site-packages/sklearn/metrics/pairwise.py\u001b[0m in \u001b[0;36meuclidean_distances\u001b[0;34m(X, Y, Y_norm_squared, squared, X_norm_squared)\u001b[0m\n\u001b[1;32m    329\u001b[0m \u001b[0;34m\u001b[0m\u001b[0m\n\u001b[0;32m--> 330\u001b[0;31m     \u001b[0;32mreturn\u001b[0m \u001b[0m_euclidean_distances\u001b[0m\u001b[0;34m(\u001b[0m\u001b[0mX\u001b[0m\u001b[0;34m,\u001b[0m \u001b[0mY\u001b[0m\u001b[0;34m,\u001b[0m \u001b[0mX_norm_squared\u001b[0m\u001b[0;34m,\u001b[0m \u001b[0mY_norm_squared\u001b[0m\u001b[0;34m,\u001b[0m \u001b[0msquared\u001b[0m\u001b[0;34m)\u001b[0m\u001b[0;34m\u001b[0m\u001b[0;34m\u001b[0m\u001b[0m\n\u001b[0m\u001b[1;32m    331\u001b[0m \u001b[0;34m\u001b[0m\u001b[0m\n",
      "\u001b[0;32m~/.local/lib/python3.8/site-packages/sklearn/metrics/pairwise.py\u001b[0m in \u001b[0;36m_euclidean_distances\u001b[0;34m(X, Y, X_norm_squared, Y_norm_squared, squared)\u001b[0m\n\u001b[1;32m    370\u001b[0m         \u001b[0;31m# if dtype is already float64, no need to chunk and upcast\u001b[0m\u001b[0;34m\u001b[0m\u001b[0;34m\u001b[0m\u001b[0;34m\u001b[0m\u001b[0m\n\u001b[0;32m--> 371\u001b[0;31m         \u001b[0mdistances\u001b[0m \u001b[0;34m=\u001b[0m \u001b[0;34m-\u001b[0m\u001b[0;36m2\u001b[0m \u001b[0;34m*\u001b[0m \u001b[0msafe_sparse_dot\u001b[0m\u001b[0;34m(\u001b[0m\u001b[0mX\u001b[0m\u001b[0;34m,\u001b[0m \u001b[0mY\u001b[0m\u001b[0;34m.\u001b[0m\u001b[0mT\u001b[0m\u001b[0;34m,\u001b[0m \u001b[0mdense_output\u001b[0m\u001b[0;34m=\u001b[0m\u001b[0;32mTrue\u001b[0m\u001b[0;34m)\u001b[0m\u001b[0;34m\u001b[0m\u001b[0;34m\u001b[0m\u001b[0m\n\u001b[0m\u001b[1;32m    372\u001b[0m         \u001b[0mdistances\u001b[0m \u001b[0;34m+=\u001b[0m \u001b[0mXX\u001b[0m\u001b[0;34m\u001b[0m\u001b[0;34m\u001b[0m\u001b[0m\n",
      "\u001b[0;32m~/.local/lib/python3.8/site-packages/sklearn/utils/extmath.py\u001b[0m in \u001b[0;36msafe_sparse_dot\u001b[0;34m(a, b, dense_output)\u001b[0m\n\u001b[1;32m    151\u001b[0m     \u001b[0;32melse\u001b[0m\u001b[0;34m:\u001b[0m\u001b[0;34m\u001b[0m\u001b[0;34m\u001b[0m\u001b[0m\n\u001b[0;32m--> 152\u001b[0;31m         \u001b[0mret\u001b[0m \u001b[0;34m=\u001b[0m \u001b[0ma\u001b[0m \u001b[0;34m@\u001b[0m \u001b[0mb\u001b[0m\u001b[0;34m\u001b[0m\u001b[0;34m\u001b[0m\u001b[0m\n\u001b[0m\u001b[1;32m    153\u001b[0m \u001b[0;34m\u001b[0m\u001b[0m\n",
      "\u001b[0;32m~/.local/lib/python3.8/site-packages/scipy/sparse/base.py\u001b[0m in \u001b[0;36m__rmatmul__\u001b[0;34m(self, other)\u001b[0m\n\u001b[1;32m    565\u001b[0m                              \"use '*' instead\")\n\u001b[0;32m--> 566\u001b[0;31m         \u001b[0;32mreturn\u001b[0m \u001b[0mself\u001b[0m\u001b[0;34m.\u001b[0m\u001b[0m__rmul__\u001b[0m\u001b[0;34m(\u001b[0m\u001b[0mother\u001b[0m\u001b[0;34m)\u001b[0m\u001b[0;34m\u001b[0m\u001b[0;34m\u001b[0m\u001b[0m\n\u001b[0m\u001b[1;32m    567\u001b[0m \u001b[0;34m\u001b[0m\u001b[0m\n",
      "\u001b[0;32m~/.local/lib/python3.8/site-packages/scipy/sparse/base.py\u001b[0m in \u001b[0;36m__rmul__\u001b[0;34m(self, other)\u001b[0m\n\u001b[1;32m    549\u001b[0m                 \u001b[0mtr\u001b[0m \u001b[0;34m=\u001b[0m \u001b[0mnp\u001b[0m\u001b[0;34m.\u001b[0m\u001b[0masarray\u001b[0m\u001b[0;34m(\u001b[0m\u001b[0mother\u001b[0m\u001b[0;34m)\u001b[0m\u001b[0;34m.\u001b[0m\u001b[0mtranspose\u001b[0m\u001b[0;34m(\u001b[0m\u001b[0;34m)\u001b[0m\u001b[0;34m\u001b[0m\u001b[0;34m\u001b[0m\u001b[0m\n\u001b[0;32m--> 550\u001b[0;31m             \u001b[0;32mreturn\u001b[0m \u001b[0;34m(\u001b[0m\u001b[0mself\u001b[0m\u001b[0;34m.\u001b[0m\u001b[0mtranspose\u001b[0m\u001b[0;34m(\u001b[0m\u001b[0;34m)\u001b[0m \u001b[0;34m*\u001b[0m \u001b[0mtr\u001b[0m\u001b[0;34m)\u001b[0m\u001b[0;34m.\u001b[0m\u001b[0mtranspose\u001b[0m\u001b[0;34m(\u001b[0m\u001b[0;34m)\u001b[0m\u001b[0;34m\u001b[0m\u001b[0;34m\u001b[0m\u001b[0m\n\u001b[0m\u001b[1;32m    551\u001b[0m \u001b[0;34m\u001b[0m\u001b[0m\n",
      "\u001b[0;32m~/.local/lib/python3.8/site-packages/scipy/sparse/base.py\u001b[0m in \u001b[0;36m__mul__\u001b[0;34m(self, other)\u001b[0m\n\u001b[1;32m    470\u001b[0m             \u001b[0;32melif\u001b[0m \u001b[0mother\u001b[0m\u001b[0;34m.\u001b[0m\u001b[0mndim\u001b[0m \u001b[0;34m==\u001b[0m \u001b[0;36m2\u001b[0m \u001b[0;32mand\u001b[0m \u001b[0mother\u001b[0m\u001b[0;34m.\u001b[0m\u001b[0mshape\u001b[0m\u001b[0;34m[\u001b[0m\u001b[0;36m0\u001b[0m\u001b[0;34m]\u001b[0m \u001b[0;34m==\u001b[0m \u001b[0mN\u001b[0m\u001b[0;34m:\u001b[0m\u001b[0;34m\u001b[0m\u001b[0;34m\u001b[0m\u001b[0m\n\u001b[0;32m--> 471\u001b[0;31m                 \u001b[0;32mreturn\u001b[0m \u001b[0mself\u001b[0m\u001b[0;34m.\u001b[0m\u001b[0m_mul_multivector\u001b[0m\u001b[0;34m(\u001b[0m\u001b[0mother\u001b[0m\u001b[0;34m)\u001b[0m\u001b[0;34m\u001b[0m\u001b[0;34m\u001b[0m\u001b[0m\n\u001b[0m\u001b[1;32m    472\u001b[0m \u001b[0;34m\u001b[0m\u001b[0m\n",
      "\u001b[0;32m~/.local/lib/python3.8/site-packages/scipy/sparse/compressed.py\u001b[0m in \u001b[0;36m_mul_multivector\u001b[0;34m(self, other)\u001b[0m\n\u001b[1;32m    491\u001b[0m         fn(M, N, n_vecs, self.indptr, self.indices, self.data,\n\u001b[0;32m--> 492\u001b[0;31m            other.ravel(), result.ravel())\n\u001b[0m\u001b[1;32m    493\u001b[0m \u001b[0;34m\u001b[0m\u001b[0m\n",
      "\u001b[0;31mKeyboardInterrupt\u001b[0m: ",
      "\nDuring handling of the above exception, another exception occurred:\n",
      "\u001b[0;31mAttributeError\u001b[0m                            Traceback (most recent call last)",
      "\u001b[0;32m~/.local/lib/python3.8/site-packages/IPython/core/interactiveshell.py\u001b[0m in \u001b[0;36mshowtraceback\u001b[0;34m(self, exc_tuple, filename, tb_offset, exception_only, running_compiled_code)\u001b[0m\n\u001b[1;32m   2076\u001b[0m                         \u001b[0;31m# in the engines. This should return a list of strings.\u001b[0m\u001b[0;34m\u001b[0m\u001b[0;34m\u001b[0m\u001b[0;34m\u001b[0m\u001b[0m\n\u001b[0;32m-> 2077\u001b[0;31m                         \u001b[0mstb\u001b[0m \u001b[0;34m=\u001b[0m \u001b[0mvalue\u001b[0m\u001b[0;34m.\u001b[0m\u001b[0m_render_traceback_\u001b[0m\u001b[0;34m(\u001b[0m\u001b[0;34m)\u001b[0m\u001b[0;34m\u001b[0m\u001b[0;34m\u001b[0m\u001b[0m\n\u001b[0m\u001b[1;32m   2078\u001b[0m                     \u001b[0;32mexcept\u001b[0m \u001b[0mException\u001b[0m\u001b[0;34m:\u001b[0m\u001b[0;34m\u001b[0m\u001b[0;34m\u001b[0m\u001b[0m\n",
      "\u001b[0;31mAttributeError\u001b[0m: 'KeyboardInterrupt' object has no attribute '_render_traceback_'",
      "\nDuring handling of the above exception, another exception occurred:\n",
      "\u001b[0;31mTypeError\u001b[0m                                 Traceback (most recent call last)",
      "    \u001b[0;31m[... skipping hidden 1 frame]\u001b[0m\n",
      "\u001b[0;32m~/.local/lib/python3.8/site-packages/IPython/core/interactiveshell.py\u001b[0m in \u001b[0;36mshowtraceback\u001b[0;34m(self, exc_tuple, filename, tb_offset, exception_only, running_compiled_code)\u001b[0m\n\u001b[1;32m   2077\u001b[0m                         \u001b[0mstb\u001b[0m \u001b[0;34m=\u001b[0m \u001b[0mvalue\u001b[0m\u001b[0;34m.\u001b[0m\u001b[0m_render_traceback_\u001b[0m\u001b[0;34m(\u001b[0m\u001b[0;34m)\u001b[0m\u001b[0;34m\u001b[0m\u001b[0;34m\u001b[0m\u001b[0m\n\u001b[1;32m   2078\u001b[0m                     \u001b[0;32mexcept\u001b[0m \u001b[0mException\u001b[0m\u001b[0;34m:\u001b[0m\u001b[0;34m\u001b[0m\u001b[0;34m\u001b[0m\u001b[0m\n\u001b[0;32m-> 2079\u001b[0;31m                         stb = self.InteractiveTB.structured_traceback(etype,\n\u001b[0m\u001b[1;32m   2080\u001b[0m                                             value, tb, tb_offset=tb_offset)\n\u001b[1;32m   2081\u001b[0m \u001b[0;34m\u001b[0m\u001b[0m\n",
      "\u001b[0;32m~/.local/lib/python3.8/site-packages/IPython/core/ultratb.py\u001b[0m in \u001b[0;36mstructured_traceback\u001b[0;34m(self, etype, value, tb, tb_offset, number_of_lines_of_context)\u001b[0m\n\u001b[1;32m   1365\u001b[0m         \u001b[0;32melse\u001b[0m\u001b[0;34m:\u001b[0m\u001b[0;34m\u001b[0m\u001b[0;34m\u001b[0m\u001b[0m\n\u001b[1;32m   1366\u001b[0m             \u001b[0mself\u001b[0m\u001b[0;34m.\u001b[0m\u001b[0mtb\u001b[0m \u001b[0;34m=\u001b[0m \u001b[0mtb\u001b[0m\u001b[0;34m\u001b[0m\u001b[0;34m\u001b[0m\u001b[0m\n\u001b[0;32m-> 1367\u001b[0;31m         return FormattedTB.structured_traceback(\n\u001b[0m\u001b[1;32m   1368\u001b[0m             self, etype, value, tb, tb_offset, number_of_lines_of_context)\n\u001b[1;32m   1369\u001b[0m \u001b[0;34m\u001b[0m\u001b[0m\n",
      "\u001b[0;32m~/.local/lib/python3.8/site-packages/IPython/core/ultratb.py\u001b[0m in \u001b[0;36mstructured_traceback\u001b[0;34m(self, etype, value, tb, tb_offset, number_of_lines_of_context)\u001b[0m\n\u001b[1;32m   1265\u001b[0m         \u001b[0;32mif\u001b[0m \u001b[0mmode\u001b[0m \u001b[0;32min\u001b[0m \u001b[0mself\u001b[0m\u001b[0;34m.\u001b[0m\u001b[0mverbose_modes\u001b[0m\u001b[0;34m:\u001b[0m\u001b[0;34m\u001b[0m\u001b[0;34m\u001b[0m\u001b[0m\n\u001b[1;32m   1266\u001b[0m             \u001b[0;31m# Verbose modes need a full traceback\u001b[0m\u001b[0;34m\u001b[0m\u001b[0;34m\u001b[0m\u001b[0;34m\u001b[0m\u001b[0m\n\u001b[0;32m-> 1267\u001b[0;31m             return VerboseTB.structured_traceback(\n\u001b[0m\u001b[1;32m   1268\u001b[0m                 \u001b[0mself\u001b[0m\u001b[0;34m,\u001b[0m \u001b[0metype\u001b[0m\u001b[0;34m,\u001b[0m \u001b[0mvalue\u001b[0m\u001b[0;34m,\u001b[0m \u001b[0mtb\u001b[0m\u001b[0;34m,\u001b[0m \u001b[0mtb_offset\u001b[0m\u001b[0;34m,\u001b[0m \u001b[0mnumber_of_lines_of_context\u001b[0m\u001b[0;34m\u001b[0m\u001b[0;34m\u001b[0m\u001b[0m\n\u001b[1;32m   1269\u001b[0m             )\n",
      "\u001b[0;32m~/.local/lib/python3.8/site-packages/IPython/core/ultratb.py\u001b[0m in \u001b[0;36mstructured_traceback\u001b[0;34m(self, etype, evalue, etb, tb_offset, number_of_lines_of_context)\u001b[0m\n\u001b[1;32m   1122\u001b[0m         \u001b[0;34m\"\"\"Return a nice text document describing the traceback.\"\"\"\u001b[0m\u001b[0;34m\u001b[0m\u001b[0;34m\u001b[0m\u001b[0m\n\u001b[1;32m   1123\u001b[0m \u001b[0;34m\u001b[0m\u001b[0m\n\u001b[0;32m-> 1124\u001b[0;31m         formatted_exception = self.format_exception_as_a_whole(etype, evalue, etb, number_of_lines_of_context,\n\u001b[0m\u001b[1;32m   1125\u001b[0m                                                                tb_offset)\n\u001b[1;32m   1126\u001b[0m \u001b[0;34m\u001b[0m\u001b[0m\n",
      "\u001b[0;32m~/.local/lib/python3.8/site-packages/IPython/core/ultratb.py\u001b[0m in \u001b[0;36mformat_exception_as_a_whole\u001b[0;34m(self, etype, evalue, etb, number_of_lines_of_context, tb_offset)\u001b[0m\n\u001b[1;32m   1080\u001b[0m \u001b[0;34m\u001b[0m\u001b[0m\n\u001b[1;32m   1081\u001b[0m \u001b[0;34m\u001b[0m\u001b[0m\n\u001b[0;32m-> 1082\u001b[0;31m         \u001b[0mlast_unique\u001b[0m\u001b[0;34m,\u001b[0m \u001b[0mrecursion_repeat\u001b[0m \u001b[0;34m=\u001b[0m \u001b[0mfind_recursion\u001b[0m\u001b[0;34m(\u001b[0m\u001b[0morig_etype\u001b[0m\u001b[0;34m,\u001b[0m \u001b[0mevalue\u001b[0m\u001b[0;34m,\u001b[0m \u001b[0mrecords\u001b[0m\u001b[0;34m)\u001b[0m\u001b[0;34m\u001b[0m\u001b[0;34m\u001b[0m\u001b[0m\n\u001b[0m\u001b[1;32m   1083\u001b[0m \u001b[0;34m\u001b[0m\u001b[0m\n\u001b[1;32m   1084\u001b[0m         \u001b[0mframes\u001b[0m \u001b[0;34m=\u001b[0m \u001b[0mself\u001b[0m\u001b[0;34m.\u001b[0m\u001b[0mformat_records\u001b[0m\u001b[0;34m(\u001b[0m\u001b[0mrecords\u001b[0m\u001b[0;34m,\u001b[0m \u001b[0mlast_unique\u001b[0m\u001b[0;34m,\u001b[0m \u001b[0mrecursion_repeat\u001b[0m\u001b[0;34m)\u001b[0m\u001b[0;34m\u001b[0m\u001b[0;34m\u001b[0m\u001b[0m\n",
      "\u001b[0;32m~/.local/lib/python3.8/site-packages/IPython/core/ultratb.py\u001b[0m in \u001b[0;36mfind_recursion\u001b[0;34m(etype, value, records)\u001b[0m\n\u001b[1;32m    380\u001b[0m     \u001b[0;31m# first frame (from in to out) that looks different.\u001b[0m\u001b[0;34m\u001b[0m\u001b[0;34m\u001b[0m\u001b[0;34m\u001b[0m\u001b[0m\n\u001b[1;32m    381\u001b[0m     \u001b[0;32mif\u001b[0m \u001b[0;32mnot\u001b[0m \u001b[0mis_recursion_error\u001b[0m\u001b[0;34m(\u001b[0m\u001b[0metype\u001b[0m\u001b[0;34m,\u001b[0m \u001b[0mvalue\u001b[0m\u001b[0;34m,\u001b[0m \u001b[0mrecords\u001b[0m\u001b[0;34m)\u001b[0m\u001b[0;34m:\u001b[0m\u001b[0;34m\u001b[0m\u001b[0;34m\u001b[0m\u001b[0m\n\u001b[0;32m--> 382\u001b[0;31m         \u001b[0;32mreturn\u001b[0m \u001b[0mlen\u001b[0m\u001b[0;34m(\u001b[0m\u001b[0mrecords\u001b[0m\u001b[0;34m)\u001b[0m\u001b[0;34m,\u001b[0m \u001b[0;36m0\u001b[0m\u001b[0;34m\u001b[0m\u001b[0;34m\u001b[0m\u001b[0m\n\u001b[0m\u001b[1;32m    383\u001b[0m \u001b[0;34m\u001b[0m\u001b[0m\n\u001b[1;32m    384\u001b[0m     \u001b[0;31m# Select filename, lineno, func_name to track frames with\u001b[0m\u001b[0;34m\u001b[0m\u001b[0;34m\u001b[0m\u001b[0;34m\u001b[0m\u001b[0m\n",
      "\u001b[0;31mTypeError\u001b[0m: object of type 'NoneType' has no len()"
     ]
    }
   ],
   "source": [
    "simple_kmeans = Kmeans(\n",
    "    n_clusters=true_k,\n",
    "    max_iteration=30,\n",
    "    n_init=1,\n",
    "    verbose=True,\n",
    "    \n",
    "    init='kmeans++'\n",
    ")\n",
    "\n",
    "fit_and_evaluate(simple_kmeans, X_tfidf,None, name=\"KMeans random \\non  tf-idf vectors\", n_runs=5)\n"
   ]
  },
  {
   "cell_type": "code",
   "execution_count": 44,
   "id": "c65c2bc0",
   "metadata": {},
   "outputs": [
    {
     "data": {
      "image/png": "[encoded data removed]",
      "text/plain": [
       "<Figure size 1152x432 with 3 Axes>"
      ]
     },
     "metadata": {
      "needs_background": "light"
     },
     "output_type": "display_data"
    }
   ],
   "source": [
    "\n",
    "\n",
    "# Plot\n",
    "import matplotlib.pyplot as plt\n",
    "import pandas as pd\n",
    "\n",
    "fig, (ax0, ax1,ax2) = plt.subplots(ncols=3, figsize=(16, 6), sharey=True)\n",
    "\n",
    "df = pd.DataFrame(evaluations[::-1]).set_index(\"estimator\")\n",
    "df_std = pd.DataFrame(evaluations_std[::-1]).set_index(\"estimator\")\n",
    "\n",
    "df.drop(\n",
    "    [\"train_time\",'inertia'],\n",
    "    axis=\"columns\",\n",
    ").plot.barh(ax=ax0, xerr=df_std)\n",
    "ax0.set_xlabel(\"Clustering scores\")\n",
    "ax0.set_ylabel(\"\")\n",
    "\n",
    "df[\"train_time\"].plot.barh(ax=ax1, xerr=df_std[\"train_time\"])\n",
    "ax1.set_xlabel(\"Clustering time (s)\")\n",
    "\n",
    "\n",
    "df[['inertia']].plot.barh(ax=ax2,xerr=df_std)\n",
    "ax2.set_xlabel(\"Clustering cost\")\n",
    "ax2.set_ylabel(\"\")\n",
    "\n",
    "\n",
    "plt.tight_layout()\n",
    "plt.show()\n",
    "\n"
   ]
  },
  {
   "cell_type": "code",
   "execution_count": null,
   "id": "fb974cdd",
   "metadata": {},
   "outputs": [],
   "source": []
  }
 ],
 "metadata": {
  "kernelspec": {
   "display_name": "Python 3 (ipykernel)",
   "language": "python",
   "name": "python3"
  },
  "language_info": {
   "codemirror_mode": {
    "name": "ipython",
    "version": 3
   },
   "file_extension": ".py",
   "mimetype": "text/x-python",
   "name": "python",
   "nbconvert_exporter": "python",
   "pygments_lexer": "ipython3",
   "version": "3.8.10"
  }
 },
 "nbformat": 4,
 "nbformat_minor": 5
}
