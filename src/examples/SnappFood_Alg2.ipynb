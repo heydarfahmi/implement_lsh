{
 "cells": [
  {
   "cell_type": "code",
   "execution_count": 1,
   "id": "1c253640",
   "metadata": {},
   "outputs": [
    {
     "name": "stdout",
     "output_type": "stream",
     "text": [
      "/home/heydar/me/BSC/FinalPorject/lsh\n"
     ]
    }
   ],
   "source": [
    "%cd /home/heydar/me/BSC/FinalPorject/lsh"
   ]
  },
  {
   "cell_type": "code",
   "execution_count": 2,
   "id": "afe63957",
   "metadata": {},
   "outputs": [],
   "source": [
    "import numpy as np\n",
    "from time import time"
   ]
  },
  {
   "cell_type": "markdown",
   "id": "4dc5fa06",
   "metadata": {},
   "source": [
    "# Loading Dataset\n",
    "## Preparing Dataset from sickit-learn\n",
    "In this example our dataset is a news group dataset."
   ]
  },
  {
   "cell_type": "code",
   "execution_count": 3,
   "id": "715b2de4",
   "metadata": {},
   "outputs": [],
   "source": [
    "import pandas as pd\n",
    "data=pd.read_csv('/media/heydar/extra2/BSC/LSH_DATASET/SnappFOod/Snappfood - Sentiment Analysis.csv' , on_bad_lines='skip' , delimiter='\\t')"
   ]
  },
  {
   "cell_type": "code",
   "execution_count": 4,
   "id": "a7c7ce25",
   "metadata": {},
   "outputs": [
    {
     "data": {
      "text/html": [
       "<div>\n",
       "<style scoped>\n",
       "    .dataframe tbody tr th:only-of-type {\n",
       "        vertical-align: middle;\n",
       "    }\n",
       "\n",
       "    .dataframe tbody tr th {\n",
       "        vertical-align: top;\n",
       "    }\n",
       "\n",
       "    .dataframe thead th {\n",
       "        text-align: right;\n",
       "    }\n",
       "</style>\n",
       "<table border=\"1\" class=\"dataframe\">\n",
       "  <thead>\n",
       "    <tr style=\"text-align: right;\">\n",
       "      <th></th>\n",
       "      <th>Unnamed: 0</th>\n",
       "      <th>comment</th>\n",
       "      <th>label</th>\n",
       "      <th>label_id</th>\n",
       "    </tr>\n",
       "  </thead>\n",
       "  <tbody>\n",
       "    <tr>\n",
       "      <th>0</th>\n",
       "      <td>NaN</td>\n",
       "      <td>واقعا حیف وقت که بنویسم سرویس دهیتون شده افتضاح</td>\n",
       "      <td>SAD</td>\n",
       "      <td>1.0</td>\n",
       "    </tr>\n",
       "    <tr>\n",
       "      <th>1</th>\n",
       "      <td>NaN</td>\n",
       "      <td>قرار بود ۱ ساعته برسه ولی نیم ساعت زودتر از مو...</td>\n",
       "      <td>HAPPY</td>\n",
       "      <td>0.0</td>\n",
       "    </tr>\n",
       "    <tr>\n",
       "      <th>2</th>\n",
       "      <td>NaN</td>\n",
       "      <td>قیمت این مدل اصلا با کیفیتش سازگاری نداره، فقط...</td>\n",
       "      <td>SAD</td>\n",
       "      <td>1.0</td>\n",
       "    </tr>\n",
       "    <tr>\n",
       "      <th>3</th>\n",
       "      <td>NaN</td>\n",
       "      <td>عالللی بود همه چه درست و به اندازه و کیفیت خوب...</td>\n",
       "      <td>HAPPY</td>\n",
       "      <td>0.0</td>\n",
       "    </tr>\n",
       "    <tr>\n",
       "      <th>4</th>\n",
       "      <td>NaN</td>\n",
       "      <td>شیرینی وانیلی فقط یک مدل بود.</td>\n",
       "      <td>HAPPY</td>\n",
       "      <td>0.0</td>\n",
       "    </tr>\n",
       "    <tr>\n",
       "      <th>...</th>\n",
       "      <td>...</td>\n",
       "      <td>...</td>\n",
       "      <td>...</td>\n",
       "      <td>...</td>\n",
       "    </tr>\n",
       "    <tr>\n",
       "      <th>69995</th>\n",
       "      <td>NaN</td>\n",
       "      <td>سلام من به فاکتور غذاهایی که سفارش میدم احتیاج...</td>\n",
       "      <td>SAD</td>\n",
       "      <td>1.0</td>\n",
       "    </tr>\n",
       "    <tr>\n",
       "      <th>69996</th>\n",
       "      <td>NaN</td>\n",
       "      <td>سایز پیتزا نسبت به سفارشاتی که قبلا گذشتم کم ش...</td>\n",
       "      <td>SAD</td>\n",
       "      <td>1.0</td>\n",
       "    </tr>\n",
       "    <tr>\n",
       "      <th>69997</th>\n",
       "      <td>NaN</td>\n",
       "      <td>من قارچ اضافه رو اضافه کرده بودم بودم اما اگر ...</td>\n",
       "      <td>HAPPY</td>\n",
       "      <td>0.0</td>\n",
       "    </tr>\n",
       "    <tr>\n",
       "      <th>69998</th>\n",
       "      <td>NaN</td>\n",
       "      <td>همرو بعد ۲ساعت تاخیر اشتباه آوردن پولشم رفت رو...</td>\n",
       "      <td>SAD</td>\n",
       "      <td>1.0</td>\n",
       "    </tr>\n",
       "    <tr>\n",
       "      <th>69999</th>\n",
       "      <td>NaN</td>\n",
       "      <td>فلفلش خییییلی تند بود.</td>\n",
       "      <td>HAPPY</td>\n",
       "      <td>0.0</td>\n",
       "    </tr>\n",
       "  </tbody>\n",
       "</table>\n",
       "<p>70000 rows × 4 columns</p>\n",
       "</div>"
      ],
      "text/plain": [
       "      Unnamed: 0                                            comment  label  \\\n",
       "0            NaN    واقعا حیف وقت که بنویسم سرویس دهیتون شده افتضاح    SAD   \n",
       "1            NaN  قرار بود ۱ ساعته برسه ولی نیم ساعت زودتر از مو...  HAPPY   \n",
       "2            NaN  قیمت این مدل اصلا با کیفیتش سازگاری نداره، فقط...    SAD   \n",
       "3            NaN  عالللی بود همه چه درست و به اندازه و کیفیت خوب...  HAPPY   \n",
       "4            NaN                      شیرینی وانیلی فقط یک مدل بود.  HAPPY   \n",
       "...          ...                                                ...    ...   \n",
       "69995        NaN  سلام من به فاکتور غذاهایی که سفارش میدم احتیاج...    SAD   \n",
       "69996        NaN  سایز پیتزا نسبت به سفارشاتی که قبلا گذشتم کم ش...    SAD   \n",
       "69997        NaN  من قارچ اضافه رو اضافه کرده بودم بودم اما اگر ...  HAPPY   \n",
       "69998        NaN  همرو بعد ۲ساعت تاخیر اشتباه آوردن پولشم رفت رو...    SAD   \n",
       "69999        NaN                             فلفلش خییییلی تند بود.  HAPPY   \n",
       "\n",
       "       label_id  \n",
       "0           1.0  \n",
       "1           0.0  \n",
       "2           1.0  \n",
       "3           0.0  \n",
       "4           0.0  \n",
       "...         ...  \n",
       "69995       1.0  \n",
       "69996       1.0  \n",
       "69997       0.0  \n",
       "69998       1.0  \n",
       "69999       0.0  \n",
       "\n",
       "[70000 rows x 4 columns]"
      ]
     },
     "execution_count": 4,
     "metadata": {},
     "output_type": "execute_result"
    }
   ],
   "source": [
    "data"
   ]
  },
  {
   "cell_type": "code",
   "execution_count": 5,
   "id": "133f598d",
   "metadata": {},
   "outputs": [
    {
     "name": "stderr",
     "output_type": "stream",
     "text": [
      "/home/heydar/.local/lib/python3.8/site-packages/pandas/util/_decorators.py:311: SettingWithCopyWarning: \n",
      "A value is trying to be set on a copy of a slice from a DataFrame\n",
      "\n",
      "See the caveats in the documentation: https://pandas.pydata.org/pandas-docs/stable/user_guide/indexing.html#returning-a-view-versus-a-copy\n",
      "  return func(*args, **kwargs)\n",
      "/tmp/ipykernel_74566/77962516.py:12: SettingWithCopyWarning: \n",
      "A value is trying to be set on a copy of a slice from a DataFrame.\n",
      "Try using .loc[row_indexer,col_indexer] = value instead\n",
      "\n",
      "See the caveats in the documentation: https://pandas.pydata.org/pandas-docs/stable/user_guide/indexing.html#returning-a-view-versus-a-copy\n",
      "  data['comment'] = data['comment'].apply(lambda x: normalizer.normalize(x))\n",
      "/tmp/ipykernel_74566/77962516.py:14: SettingWithCopyWarning: \n",
      "A value is trying to be set on a copy of a slice from a DataFrame.\n",
      "Try using .loc[row_indexer,col_indexer] = value instead\n",
      "\n",
      "See the caveats in the documentation: https://pandas.pydata.org/pandas-docs/stable/user_guide/indexing.html#returning-a-view-versus-a-copy\n",
      "  data['comment'] = data['comment'].apply(lambda x: [stemmer.stem(word) for word in x.split()])\n",
      "/tmp/ipykernel_74566/77962516.py:16: SettingWithCopyWarning: \n",
      "A value is trying to be set on a copy of a slice from a DataFrame.\n",
      "Try using .loc[row_indexer,col_indexer] = value instead\n",
      "\n",
      "See the caveats in the documentation: https://pandas.pydata.org/pandas-docs/stable/user_guide/indexing.html#returning-a-view-versus-a-copy\n",
      "  data['comment'] = data['comment'].apply(lambda words: ' '.join([lemmatizer.lemmatize(word).split('#')[0] for word in words]))\n"
     ]
    }
   ],
   "source": [
    "from hazm import *\n",
    "import re\n",
    "normalizer = Normalizer()\n",
    "stemmer = Stemmer()\n",
    "lemmatizer = Lemmatizer()\n",
    "\n",
    "data['comment']= data['comment'].apply(lambda x: re.sub(r'[\\da-zA-Z\\!\\(\\)\\-\\[\\]\\{\\}\\;\\:\\'\\\"\\\\\\,\\<\\>\\.\\/\\?\\@\\#\\$\\%\\^\\&\\*\\_\\~\\؟\\،\\٪\\×\\÷\\»\\«]', '', x))\n",
    "\n",
    "data = data[['comment']]\n",
    "data.dropna(inplace=True)\n",
    "\n",
    "data['comment'] = data['comment'].apply(lambda x: normalizer.normalize(x)) \n",
    "\n",
    "data['comment'] = data['comment'].apply(lambda x: [stemmer.stem(word) for word in x.split()])\n",
    "\n",
    "data['comment'] = data['comment'].apply(lambda words: ' '.join([lemmatizer.lemmatize(word).split('#')[0] for word in words])) "
   ]
  },
  {
   "cell_type": "code",
   "execution_count": 6,
   "id": "b0d61ad4",
   "metadata": {},
   "outputs": [],
   "source": [
    "data.to_csv('/media/heydar/extra2/BSC/LSH_DATASET/SnappFOod/Normal_SnappFood.csv' )"
   ]
  },
  {
   "cell_type": "code",
   "execution_count": 7,
   "id": "16cd6aa5",
   "metadata": {},
   "outputs": [],
   "source": [
    "data=pd.read_csv('/media/heydar/extra2/BSC/LSH_DATASET/SnappFOod/Normal_SnappFood.csv')"
   ]
  },
  {
   "cell_type": "code",
   "execution_count": 6,
   "id": "ec269a13",
   "metadata": {},
   "outputs": [
    {
     "data": {
      "text/html": [
       "<div>\n",
       "<style scoped>\n",
       "    .dataframe tbody tr th:only-of-type {\n",
       "        vertical-align: middle;\n",
       "    }\n",
       "\n",
       "    .dataframe tbody tr th {\n",
       "        vertical-align: top;\n",
       "    }\n",
       "\n",
       "    .dataframe thead th {\n",
       "        text-align: right;\n",
       "    }\n",
       "</style>\n",
       "<table border=\"1\" class=\"dataframe\">\n",
       "  <thead>\n",
       "    <tr style=\"text-align: right;\">\n",
       "      <th></th>\n",
       "      <th>comment</th>\n",
       "    </tr>\n",
       "  </thead>\n",
       "  <tbody>\n",
       "    <tr>\n",
       "      <th>0</th>\n",
       "      <td>واقعا حیف وق که نوشت سرویس دهیتون شده افتضاح</td>\n",
       "    </tr>\n",
       "    <tr>\n",
       "      <th>1</th>\n",
       "      <td>قرار بود ساعته برسه ول ن ساع زود از موقع رسید ...</td>\n",
       "    </tr>\n",
       "    <tr>\n",
       "      <th>2</th>\n",
       "      <td>قیم این مدل اصلا با کیفیت سازگار نداره فقط ظاه...</td>\n",
       "    </tr>\n",
       "    <tr>\n",
       "      <th>3</th>\n",
       "      <td>عاللل بود همه چه درس و به اندازه و کیف خوب امی...</td>\n",
       "    </tr>\n",
       "    <tr>\n",
       "      <th>4</th>\n",
       "      <td>شیرین وانیل فقط یک مدل بود</td>\n",
       "    </tr>\n",
       "    <tr>\n",
       "      <th>...</th>\n",
       "      <td>...</td>\n",
       "    </tr>\n",
       "    <tr>\n",
       "      <th>69995</th>\n",
       "      <td>سلا من به فاکتور غذا که سفار مید احتیاج دار و ...</td>\n",
       "    </tr>\n",
       "    <tr>\n",
       "      <th>69996</th>\n",
       "      <td>سایز پیتزا نسب به سفارشات که قبلا گذ ک شده بود</td>\n",
       "    </tr>\n",
       "    <tr>\n",
       "      <th>69997</th>\n",
       "      <td>من قارچ اضافه رو اضافه کرده بود بود اما اگر هم...</td>\n",
       "    </tr>\n",
       "    <tr>\n",
       "      <th>69998</th>\n",
       "      <td>همرو بعد ساع تاخیر اشتباه آوردن پول رف رو هوا</td>\n",
       "    </tr>\n",
       "    <tr>\n",
       "      <th>69999</th>\n",
       "      <td>فلفل خییییل تند بود</td>\n",
       "    </tr>\n",
       "  </tbody>\n",
       "</table>\n",
       "<p>70000 rows × 1 columns</p>\n",
       "</div>"
      ],
      "text/plain": [
       "                                                 comment\n",
       "0           واقعا حیف وق که نوشت سرویس دهیتون شده افتضاح\n",
       "1      قرار بود ساعته برسه ول ن ساع زود از موقع رسید ...\n",
       "2      قیم این مدل اصلا با کیفیت سازگار نداره فقط ظاه...\n",
       "3      عاللل بود همه چه درس و به اندازه و کیف خوب امی...\n",
       "4                             شیرین وانیل فقط یک مدل بود\n",
       "...                                                  ...\n",
       "69995  سلا من به فاکتور غذا که سفار مید احتیاج دار و ...\n",
       "69996     سایز پیتزا نسب به سفارشات که قبلا گذ ک شده بود\n",
       "69997  من قارچ اضافه رو اضافه کرده بود بود اما اگر هم...\n",
       "69998      همرو بعد ساع تاخیر اشتباه آوردن پول رف رو هوا\n",
       "69999                                فلفل خییییل تند بود\n",
       "\n",
       "[70000 rows x 1 columns]"
      ]
     },
     "execution_count": 6,
     "metadata": {},
     "output_type": "execute_result"
    }
   ],
   "source": [
    "data"
   ]
  },
  {
   "cell_type": "code",
   "execution_count": 7,
   "id": "3d9169a6",
   "metadata": {},
   "outputs": [],
   "source": [
    "data=data.dropna()"
   ]
  },
  {
   "cell_type": "markdown",
   "id": "49b94598",
   "metadata": {},
   "source": [
    "### Do TF-IDF on dataset"
   ]
  },
  {
   "cell_type": "code",
   "execution_count": 8,
   "id": "3fc42608",
   "metadata": {},
   "outputs": [],
   "source": [
    "from sklearn.feature_extraction.text import TfidfVectorizer\n",
    "vectorizer = TfidfVectorizer(\n",
    "    max_df=0.5,\n",
    "    min_df=5,\n",
    "    ngram_range=(2,2)\n",
    ")"
   ]
  },
  {
   "cell_type": "code",
   "execution_count": 9,
   "id": "8f63c07f",
   "metadata": {},
   "outputs": [
    {
     "name": "stdout",
     "output_type": "stream",
     "text": [
      "vectorization done in 2.015 s\n"
     ]
    }
   ],
   "source": [
    "t0 = time()\n",
    "X_tfidf = vectorizer.fit_transform(data.comment)\n",
    "\n",
    "print(f\"vectorization done in {time() - t0:.3f} s\")"
   ]
  },
  {
   "cell_type": "markdown",
   "id": "9e8337d2",
   "metadata": {},
   "source": [
    "after adding limit to data some of rows are empty so we need to drop them for better result."
   ]
  },
  {
   "cell_type": "code",
   "execution_count": 10,
   "id": "124a8d80",
   "metadata": {},
   "outputs": [],
   "source": [
    "drops_datas=np.where([X_tfidf.getnnz(1)<1])[1]\n",
    "nnzero_rows=X_tfidf.getnnz(1)>1\n",
    "X_tfidf=X_tfidf[nnzero_rows]"
   ]
  },
  {
   "cell_type": "code",
   "execution_count": 11,
   "id": "3af3394b",
   "metadata": {},
   "outputs": [
    {
     "name": "stdout",
     "output_type": "stream",
     "text": [
      "0.000\n"
     ]
    }
   ],
   "source": [
    "print(f\"{X_tfidf.nnz / np.prod(X_tfidf.shape):.3f}\")\n",
    "# shingles = [set(vector[0].nonzero()[1]) for vector in X_tfidf]"
   ]
  },
  {
   "cell_type": "raw",
   "id": "20f810ca",
   "metadata": {},
   "source": [
    "In this section, we need to shigling, we do this shingling y using th e"
   ]
  },
  {
   "cell_type": "code",
   "execution_count": 12,
   "id": "61186667",
   "metadata": {},
   "outputs": [],
   "source": [
    "# Create a copy of the CSR matrix and convert it to a COO matrix\n",
    "coo_matrix = X_tfidf.tocoo(copy=True)\n",
    "\n",
    "# Replace non-zero values with their own column indices\n",
    "coo_matrix.data = coo_matrix.col\n",
    "\n",
    "# Convert the COO matrix back to CSR format\n",
    "shingles = coo_matrix.tocsr()\n"
   ]
  },
  {
   "cell_type": "code",
   "execution_count": 13,
   "id": "6a89e19e",
   "metadata": {},
   "outputs": [
    {
     "data": {
      "text/plain": [
       "(67464, 28488)"
      ]
     },
     "execution_count": 13,
     "metadata": {},
     "output_type": "execute_result"
    }
   ],
   "source": [
    "X_tfidf.shape"
   ]
  },
  {
   "cell_type": "code",
   "execution_count": 14,
   "id": "21fedf66",
   "metadata": {},
   "outputs": [
    {
     "name": "stdout",
     "output_type": "stream",
     "text": [
      "waiting for Create LSH index\n",
      "LSH index Created\n"
     ]
    }
   ],
   "source": [
    "\n",
    "from src.LSH.MinHash import MinHash\n",
    "from src.LSH.lsh import LSH\n",
    "#Make LSH\n",
    "prime=36791\n",
    "lsh_time_start=time()\n",
    "b, r = 1, 1\n",
    "num_perm = b * r\n",
    "minhash = MinHash(num_perm)\n",
    "mh = minhash.sign_csr_callback_permutation(shingles, shingles.shape[1],prime)\n",
    "mh = np.array(mh)\n",
    "print('waiting for Create LSH index')\n",
    "# Create LSH index\n",
    "lsh = LSH(b=b, r=r)\n",
    "lsh.fit(mh)\n",
    "print('LSH index Created')\n",
    "lsh_time=time()-lsh_time_start"
   ]
  },
  {
   "cell_type": "code",
   "execution_count": 15,
   "id": "82c53d40",
   "metadata": {},
   "outputs": [],
   "source": [
    "from collections import defaultdict\n",
    "from sklearn import metrics\n",
    "\n",
    "\n",
    "\n",
    "def fit_and_evaluate(km, X,lsh=None, name=None, n_runs=5,seek_time=0):\n",
    "    name = km.__class__.__name__ if name is None else name\n",
    "\n",
    "    train_times = []\n",
    "    scores = defaultdict(list)\n",
    "    for seed in range(n_runs):\n",
    "        km.random_state=seed\n",
    "        t0 = time()\n",
    "        if lsh:\n",
    "            km.fit(X,lsh)\n",
    "        else:\n",
    "            km.fit(X)\n",
    "        train_times.append(time()+seek_time - t0)\n",
    "        scores['inertia'].append(km.inertia_)\n",
    "        scores[\"Silhouette Coefficient\"].append(\n",
    "            metrics.silhouette_score(X, km.labels_, sample_size=2000)\n",
    "        )\n",
    "    train_times = np.asarray(train_times)\n",
    "\n",
    "    print(f\"clustering done in {train_times.mean():.2f} ± {train_times.std():.2f} s \")\n",
    "    evaluation = {\n",
    "        \"estimator\": name,\n",
    "        \"train_time\": train_times.mean(),\n",
    "    }\n",
    "    evaluation_std = {\n",
    "        \"estimator\": name,\n",
    "        \"train_time\": train_times.std(),\n",
    "    }\n",
    "    for score_name, score_values in scores.items():\n",
    "        mean_score, std_score = np.mean(score_values), np.std(score_values)\n",
    "        print(f\"{score_name}: {mean_score:.3f} ± {std_score:.3f}\")\n",
    "        evaluation[score_name] = mean_score\n",
    "        evaluation_std[score_name] = std_score\n",
    "    evaluations.append(evaluation)\n",
    "    evaluations_std.append(evaluation_std)\n"
   ]
  },
  {
   "cell_type": "code",
   "execution_count": 19,
   "id": "7bb8c1c8",
   "metadata": {},
   "outputs": [],
   "source": [
    "#set Cluster Number\n",
    "true_k = 100\n"
   ]
  },
  {
   "cell_type": "code",
   "execution_count": 20,
   "id": "077132aa",
   "metadata": {},
   "outputs": [],
   "source": [
    "evaluations = []\n",
    "evaluations_std = []\n"
   ]
  },
  {
   "cell_type": "code",
   "execution_count": 24,
   "id": "36431d95",
   "metadata": {},
   "outputs": [],
   "source": [
    "from sklearn.cluster import KMeans\n",
    "initi_centroids=KMeans(\n",
    "    n_clusters=true_k,\n",
    "    max_iter=1,\n",
    "    n_init=1,\n",
    "    init='k-means++'\n",
    ").fit(X_tfidf).cluster_centers_"
   ]
  },
  {
   "cell_type": "code",
   "execution_count": 23,
   "id": "e0effb87",
   "metadata": {},
   "outputs": [],
   "source": [
    "from src.Kmeans.kmeans import Kmeans\n"
   ]
  },
  {
   "cell_type": "code",
   "execution_count": 25,
   "id": "20a55247",
   "metadata": {},
   "outputs": [
    {
     "name": "stdout",
     "output_type": "stream",
     "text": [
      "Init: initializing centers\n",
      "Init: initializing clusters\n",
      "Starting iterations...\n",
      "Run 1, iteration: 1/10, moves: 4308, cost: [65222.6735088] in 955.3648293018341\n",
      "Run 1, iteration: 2/10, moves: 2415, cost: [65183.45608727] in 1387.7486522197723\n",
      "Run 1, iteration: 3/10, moves: 1621, cost: [65160.21228138] in 790.2100796699524\n",
      "Run 1, iteration: 4/10, moves: 1120, cost: [65145.49296853] in 1481.1007871627808\n",
      "Run 1, iteration: 5/10, moves: 718, cost: [65132.57260302] in 886.0262756347656\n",
      "Run 1, iteration: 6/10, moves: 569, cost: [65124.35712136] in 792.6605508327484\n",
      "Run 1, iteration: 7/10, moves: 448, cost: [65118.56734792] in 816.4559917449951\n",
      "Run 1, iteration: 8/10, moves: 324, cost: [65114.40620981] in 911.0963416099548\n",
      "Run 1, iteration: 9/10, moves: 220, cost: [65112.86604803] in 902.678139925003\n",
      "Run 1, iteration: 10/10, moves: 161, cost: [65112.14118407] in 761.2172493934631\n",
      "clustering done in 11249.32 ± 0.00 s \n",
      "inertia: 65112.141 ± 0.000\n",
      "Silhouette Coefficient: 0.011 ± 0.000\n"
     ]
    }
   ],
   "source": [
    "simple_kmeans = Kmeans(\n",
    "    n_clusters=true_k,\n",
    "    max_iteration=10,\n",
    "    n_init=1,\n",
    "    verbose=True,\n",
    "    init=initi_centroids\n",
    ")\n",
    "\n",
    "fit_and_evaluate(simple_kmeans, X_tfidf,None, name=\"KMeans random \\non  tf-idf vectors\", n_runs=1)\n"
   ]
  },
  {
   "cell_type": "code",
   "execution_count": 27,
   "id": "df06867a",
   "metadata": {},
   "outputs": [
    {
     "name": "stdout",
     "output_type": "stream",
     "text": [
      "Init: initializing centers\n",
      "Init: initializing clusters\n",
      "Starting iterations...\n",
      "Run 1, iteration: 1/10, moves: 3285, cost: [65227.43743113] in 336.60671401023865 seconds\n",
      "Run 1, iteration: 2/10, moves: 1508, cost: [65200.40228839] in 323.3021001815796 seconds\n",
      "Run 1, iteration: 3/10, moves: 916, cost: [65188.81911845] in 318.8609023094177 seconds\n",
      "Run 1, iteration: 4/10, moves: 605, cost: [65181.90543321] in 320.03744673728943 seconds\n",
      "Run 1, iteration: 5/10, moves: 383, cost: [65177.23891412] in 320.7605125904083 seconds\n",
      "Run 1, iteration: 6/10, moves: 240, cost: [65173.54627383] in 318.83551049232483 seconds\n",
      "Run 1, iteration: 7/10, moves: 132, cost: [65169.97931641] in 314.1477520465851 seconds\n",
      "Run 1, iteration: 8/10, moves: 89, cost: [65169.18667778] in 314.0196068286896 seconds\n",
      "Run 1, iteration: 9/10, moves: 72, cost: [65168.76660737] in 313.9849491119385 seconds\n",
      "Run 1, iteration: 10/10, moves: 46, cost: [65168.49139207] in 323.53047227859497 seconds\n",
      "clustering done in 4914.05 ± 0.00 s \n",
      "inertia: 65168.491 ± 0.000\n",
      "Silhouette Coefficient: 0.010 ± 0.000\n"
     ]
    }
   ],
   "source": [
    "from src.Kmeans.mh_kmeans import MHKmeans\n",
    "\n",
    "mh_kmeas=MHKmeans(\n",
    "    n_clusters=true_k,\n",
    "    max_iteration=10,\n",
    "    n_init=1,\n",
    "    verbose=True,\n",
    "    init=initi_centroids\n",
    ")\n",
    "fit_and_evaluate(mh_kmeas, X_tfidf,lsh, name=\"Mh KMeans random \\non  tf-idf vectors\", n_runs=1)\n"
   ]
  },
  {
   "cell_type": "code",
   "execution_count": 28,
   "id": "c65c2bc0",
   "metadata": {},
   "outputs": [
    {
     "data": {
      "image/png": "[encoded data removed]",
      "text/plain": [
       "<Figure size 1152x432 with 3 Axes>"
      ]
     },
     "metadata": {
      "needs_background": "light"
     },
     "output_type": "display_data"
    }
   ],
   "source": [
    "\n",
    "\n",
    "# Plot\n",
    "import matplotlib.pyplot as plt\n",
    "import pandas as pd\n",
    "\n",
    "fig, (ax0, ax1,ax2) = plt.subplots(ncols=3, figsize=(16, 6), sharey=True)\n",
    "\n",
    "df = pd.DataFrame(evaluations[::-1]).set_index(\"estimator\")\n",
    "df_std = pd.DataFrame(evaluations_std[::-1]).set_index(\"estimator\")\n",
    "\n",
    "df.drop(\n",
    "    [\"train_time\",'inertia'],\n",
    "    axis=\"columns\",\n",
    ").plot.barh(ax=ax0, xerr=df_std)\n",
    "ax0.set_xlabel(\"Clustering scores\")\n",
    "ax0.set_ylabel(\"\")\n",
    "\n",
    "df[\"train_time\"].plot.barh(ax=ax1, xerr=df_std[\"train_time\"])\n",
    "ax1.set_xlabel(\"Clustering time (s)\")\n",
    "\n",
    "\n",
    "df[['inertia']].plot.barh(ax=ax2,xerr=df_std)\n",
    "ax2.set_xlabel(\"Clustering cost\")\n",
    "ax2.set_ylabel(\"\")\n",
    "\n",
    "\n",
    "plt.tight_layout()\n",
    "plt.savefig(\"snappFood_30_4Algo2.png\")\n",
    "plt.savefig('snappFood_30_4Algo2.pdf')\n",
    "\n",
    "plt.show()\n",
    "\n"
   ]
  }
 ],
 "metadata": {
  "kernelspec": {
   "display_name": "Python 3 (ipykernel)",
   "language": "python",
   "name": "python3"
  },
  "language_info": {
   "codemirror_mode": {
    "name": "ipython",
    "version": 3
   },
   "file_extension": ".py",
   "mimetype": "text/x-python",
   "name": "python",
   "nbconvert_exporter": "python",
   "pygments_lexer": "ipython3",
   "version": "3.8.10"
  }
 },
 "nbformat": 4,
 "nbformat_minor": 5
}
