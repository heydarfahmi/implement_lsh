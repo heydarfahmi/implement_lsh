{
 "cells": [
  {
   "cell_type": "code",
   "execution_count": 1,
   "id": "1c253640",
   "metadata": {},
   "outputs": [
    {
     "name": "stdout",
     "output_type": "stream",
     "text": [
      "/home/heydar/me/BSC/FinalPorject/lsh\n"
     ]
    }
   ],
   "source": [
    "%cd /home/heydar/me/BSC/FinalPorject/lsh"
   ]
  },
  {
   "cell_type": "code",
   "execution_count": 2,
   "id": "afe63957",
   "metadata": {},
   "outputs": [],
   "source": [
    "import heapq\n",
    "import pickle\n",
    "import random\n",
    "import numpy as np\n",
    "from sklearn.datasets import fetch_20newsgroups\n",
    "from src.Kmeans.kmeans import get_random_state\n",
    "from src.Kmeans.mh_kmeans import _mhkmeans, mhkmeans\n",
    "from src.LSH.MinHash import MinHash\n",
    "from src.LSH.lsh import LSH\n",
    "from src.utils.storage import HashNodeSet\n",
    "from time import time\n"
   ]
  },
  {
   "cell_type": "code",
   "execution_count": 3,
   "id": "715b2de4",
   "metadata": {},
   "outputs": [],
   "source": [
    "#Load dataset\n",
    "categories = [\n",
    "    \"alt.atheism\",\n",
    "    \"talk.religion.misc\",\n",
    "    \"comp.graphics\",\n",
    "    \"sci.space\",\n",
    "]\n",
    "\n",
    "dataset = fetch_20newsgroups(\n",
    "    remove=(\"headers\", \"footers\", \"quotes\"),\n",
    "    subset=\"all\",\n",
    "    categories=categories,\n",
    "    shuffle=True,\n",
    "    random_state=42,\n",
    ")\n",
    "labels = dataset.target\n",
    "unique_labels, category_sizes = np.unique(labels, return_counts=True)"
   ]
  },
  {
   "cell_type": "code",
   "execution_count": 4,
   "id": "201e537c",
   "metadata": {},
   "outputs": [],
   "source": [
    "from collections import defaultdict\n",
    "from sklearn.metrics.pairwise import euclidean_distances\n",
    "from sklearn import metrics"
   ]
  },
  {
   "cell_type": "code",
   "execution_count": 5,
   "id": "3fc42608",
   "metadata": {},
   "outputs": [],
   "source": [
    "# TF IDF\n",
    "from sklearn.feature_extraction.text import TfidfVectorizer\n",
    "\n",
    "vectorizer = TfidfVectorizer(\n",
    "    max_df=0.5,\n",
    "    min_df=5,\n",
    "    stop_words=\"english\",\n",
    ")"
   ]
  },
  {
   "cell_type": "code",
   "execution_count": 6,
   "id": "8f63c07f",
   "metadata": {},
   "outputs": [
    {
     "name": "stdout",
     "output_type": "stream",
     "text": [
      "vectorization done in 0.471 s\n"
     ]
    }
   ],
   "source": [
    "t0 = time()\n",
    "X_tfidf = vectorizer.fit_transform(dataset.data)\n",
    "\n",
    "print(f\"vectorization done in {time() - t0:.3f} s\")"
   ]
  },
  {
   "cell_type": "code",
   "execution_count": 7,
   "id": "124a8d80",
   "metadata": {},
   "outputs": [],
   "source": [
    "drops_datas=np.where([X_tfidf.getnnz(1)<1])[1]\n",
    "nnzero_rows=X_tfidf.getnnz(1)>1\n",
    "labels=labels[nnzero_rows]\n",
    "X_tfidf=X_tfidf[nnzero_rows]"
   ]
  },
  {
   "cell_type": "code",
   "execution_count": 8,
   "id": "3af3394b",
   "metadata": {},
   "outputs": [
    {
     "name": "stdout",
     "output_type": "stream",
     "text": [
      "0.007\n"
     ]
    }
   ],
   "source": [
    "print(f\"{X_tfidf.nnz / np.prod(X_tfidf.shape):.3f}\")\n",
    "shingles = [set(vector[0].nonzero()[1]) for vector in X_tfidf]"
   ]
  },
  {
   "cell_type": "code",
   "execution_count": 21,
   "id": "61186667",
   "metadata": {},
   "outputs": [],
   "source": [
    "# Create a copy of the CSR matrix and convert it to a COO matrix\n",
    "coo_matrix = X_tfidf.tocoo(copy=True)\n",
    "\n",
    "# Replace non-zero values with their own column indices\n",
    "coo_matrix.data = coo_matrix.col\n",
    "\n",
    "# Convert the COO matrix back to CSR format\n",
    "result_matrix = coo_matrix.tocsr()\n"
   ]
  },
  {
   "cell_type": "code",
   "execution_count": 10,
   "id": "7bb8c1c8",
   "metadata": {},
   "outputs": [],
   "source": [
    "#set Cluster Number\n",
    "true_k = 100\n"
   ]
  },
  {
   "cell_type": "code",
   "execution_count": 11,
   "id": "6a89e19e",
   "metadata": {},
   "outputs": [
    {
     "data": {
      "text/plain": [
       "7929"
      ]
     },
     "execution_count": 11,
     "metadata": {},
     "output_type": "execute_result"
    }
   ],
   "source": [
    "X_tfidf.shape[1]"
   ]
  },
  {
   "cell_type": "code",
   "execution_count": 12,
   "id": "21fedf66",
   "metadata": {},
   "outputs": [
    {
     "name": "stdout",
     "output_type": "stream",
     "text": [
      "waiting for Create LSH index\n",
      "LSH index Created\n"
     ]
    }
   ],
   "source": [
    "#Make LSH\n",
    "prime=8017\n",
    "lsh_time_start=time()\n",
    "b, r = 5, 2\n",
    "num_perm = b * r\n",
    "minhash = MinHash(num_perm)\n",
    "mh = minhash.sign_csr_callback_permutation(result_matrix, result_matrix.shape[1],prime)\n",
    "#\n",
    "mh = np.array(mh)\n",
    "print('waiting for Create LSH index')\n",
    "# Create LSH index\n",
    "lsh = LSH(b=b, r=r)\n",
    "lsh.fit(mh)\n",
    "print('LSH index Created')\n",
    "lsh_time=time()-lsh_time_start"
   ]
  },
  {
   "cell_type": "code",
   "execution_count": 14,
   "id": "7f8931dd",
   "metadata": {},
   "outputs": [],
   "source": [
    "#Make LSH Graph\n",
    "import networkx as nx\n",
    "graph_time_start=time()\n",
    "G = nx.Graph()\n",
    "_hash_nodes_start = lsh.keys.size() + 10\n",
    "hash_to_node_map = [HashNodeSet() for _ in range(lsh.b)]\n",
    "for node in lsh.keys.keys():\n",
    "    for bi, hash_bi in enumerate(lsh.keys.get(node)):\n",
    "        hash_node = hash_to_node_map[bi].add(hash_bi)\n",
    "        G.add_edges_from([(f'p_{node}', f'h_{hash_node}_{bi}')])\n",
    "graph_time=time()-graph_time_start"
   ]
  },
  {
   "cell_type": "code",
   "execution_count": 15,
   "id": "1d112bad",
   "metadata": {},
   "outputs": [],
   "source": [
    "random_state=get_random_state()\n",
    "def generate_cluster_with_graph(k, X, G, type):\n",
    "    subgraphs = list(nx.connected_components(G))\n",
    "    centroids = [{} for _ in range(k)]\n",
    "    if k < len(subgraphs):\n",
    "        if type == 'max':\n",
    "            k_max_indices = heapq.nlargest(k, range(len(subgraphs)), key=lambda i: len(subgraphs[i]))\n",
    "            for ik, kvalue in enumerate(k_max_indices):\n",
    "                centroids[ik] = [int(p[2:]) for p in subgraphs[kvalue] if p.startswith('p')]\n",
    "            return np.concatenate([np.asarray(X[cs].mean(axis=0)) for cs in centroids])\n",
    "        elif type == 'max_rand':\n",
    "            k_max_indices = heapq.nlargest(k, range(len(subgraphs)), key=lambda i: len(subgraphs[i]))\n",
    "            for ik, kvalue in enumerate(k_max_indices):\n",
    "                centroids[ik] = int(random.choice([i[2:] for i in subgraphs[kvalue] if i.startswith('p')]))\n",
    "            centroids = np.array(centroids)\n",
    "            return X[centroids].toarray()\n",
    "        elif type == 'min':\n",
    "            k_max_indices = heapq.nsmallest(k, range(len(subgraphs)), key=lambda i: len(subgraphs[i]))\n",
    "            for ik, kvalue in enumerate(k_max_indices):\n",
    "                centroids[ik] = int(random.choice([i[2:] for i in subgraphs[kvalue] if i.startswith('p')]))\n",
    "            centroids = np.array(centroids)\n",
    "            return X[centroids].toarray()\n",
    "        elif type=='min_rand':\n",
    "            candidate_sg=[subgraph for subgraph in subgraphs if len(subgraph)==b+1]\n",
    "            _candidates=[]\n",
    "            for subgraph in candidate_sg:\n",
    "                _candidates.append(int([c for c in subgraph if c.startswith('p')][0][2:]))\n",
    "            if len(_candidates)< k:\n",
    "                candidates=_candidates\n",
    "                candidates2 = random_state.choice(\n",
    "                X.shape[0],\n",
    "                size=k-len(_candidates),\n",
    "                replace=False)\n",
    "                centroids=np.concatenate([candidates,candidates2])\n",
    "            else:\n",
    "                seeds = random_state.choice(\n",
    "                    range(len(_candidates)),\n",
    "                    size=k,\n",
    "                    replace=False)\n",
    "                centroids=[_candidates[s] for s in seeds]\n",
    "            centroids = np.array(centroids)\n",
    "            return X[centroids].toarray()\n",
    "        elif type == 'mix':\n",
    "            if k == 1:\n",
    "                return np.asarray([X.mean(axis=0)])\n",
    "            min_k = int(k / 2)\n",
    "            max_k = k - min_k\n",
    "            k_max_indices = heapq.nsmallest(min_k, range(len(subgraphs)), key=lambda i: len(subgraphs[i]))\n",
    "            for ik, kvalue in enumerate(k_max_indices):\n",
    "                centroids[ik] = [int(random.choice([i[2:] for i in subgraphs[kvalue] if i.startswith('p')]))]\n",
    "\n",
    "            k_max_indices = heapq.nlargest(max_k, range(len(subgraphs)), key=lambda i: len(subgraphs[i]))\n",
    "            for ik, kvalue in enumerate(k_max_indices):\n",
    "                centroids[min_k + ik] = [int(p[2:]) for p in subgraphs[kvalue] if p.startswith('p')]\n",
    "            return np.concatenate([np.asarray(X[cs].mean(axis=0)) for cs in centroids])\n",
    "\n",
    "    return centroids\n",
    "initializing_time=time()\n",
    "centroids = generate_cluster_with_graph(true_k, X_tfidf, G, 'min')\n",
    "initializing_time=time()-initializing_time\n",
    "initializing_time+=graph_time+lsh_time"
   ]
  },
  {
   "cell_type": "code",
   "execution_count": 16,
   "id": "37ffa845",
   "metadata": {},
   "outputs": [],
   "source": [
    "def euclidean_distances_square(X,Y):\n",
    "    return euclidean_distances(X,Y,squared=True)\n"
   ]
  },
  {
   "cell_type": "code",
   "execution_count": 17,
   "id": "c5f96d60",
   "metadata": {},
   "outputs": [],
   "source": [
    "def fit_and_evaluate(km, X, name=None, n_runs=5,seek_time=0):\n",
    "    name = km.__class__.__name__ if name is None else name\n",
    "\n",
    "    train_times = []\n",
    "    scores = defaultdict(list)\n",
    "    for seed in range(n_runs):\n",
    "        km.set_params(random_state=seed)\n",
    "        t0 = time()\n",
    "        km.fit(X)\n",
    "        train_times.append(time()+seek_time - t0)\n",
    "        scores['inertia'].append(km.inertia_)\n",
    "        scores[\"Homogeneity\"].append(metrics.homogeneity_score(labels, km.labels_))\n",
    "        scores[\"Completeness\"].append(metrics.completeness_score(labels, km.labels_))\n",
    "        scores[\"V-measure\"].append(metrics.v_measure_score(labels, km.labels_))\n",
    "        scores[\"Adjusted Rand-Index\"].append(\n",
    "            metrics.adjusted_rand_score(labels, km.labels_)\n",
    "        )\n",
    "        scores[\"Silhouette Coefficient\"].append(\n",
    "            metrics.silhouette_score(X, km.labels_, sample_size=2000)\n",
    "        )\n",
    "    train_times = np.asarray(train_times)\n",
    "\n",
    "    print(f\"clustering done in {train_times.mean():.2f} ± {train_times.std():.2f} s \")\n",
    "    evaluation = {\n",
    "        \"estimator\": name,\n",
    "        \"train_time\": train_times.mean(),\n",
    "    }\n",
    "    evaluation_std = {\n",
    "        \"estimator\": name,\n",
    "        \"train_time\": train_times.std(),\n",
    "    }\n",
    "    for score_name, score_values in scores.items():\n",
    "        mean_score, std_score = np.mean(score_values), np.std(score_values)\n",
    "        print(f\"{score_name}: {mean_score:.3f} ± {std_score:.3f}\")\n",
    "        evaluation[score_name] = mean_score\n",
    "        evaluation_std[score_name] = std_score\n",
    "    evaluations.append(evaluation)\n",
    "    evaluations_std.append(evaluation_std)\n"
   ]
  },
  {
   "cell_type": "code",
   "execution_count": 19,
   "id": "88ef91ac",
   "metadata": {},
   "outputs": [
    {
     "name": "stdout",
     "output_type": "stream",
     "text": [
      "clustering done in 1.29 ± 0.42 s \n",
      "inertia: 2926.654 ± 4.260\n",
      "Homogeneity: 0.455 ± 0.012\n",
      "Completeness: 0.145 ± 0.004\n",
      "V-measure: 0.220 ± 0.006\n",
      "Adjusted Rand-Index: 0.033 ± 0.004\n",
      "Silhouette Coefficient: 0.013 ± 0.001\n",
      "__________________________\n",
      "clustering done in 1.55 ± 0.26 s \n",
      "inertia: 2904.939 ± 4.813\n",
      "Homogeneity: 0.480 ± 0.009\n",
      "Completeness: 0.153 ± 0.003\n",
      "V-measure: 0.232 ± 0.005\n",
      "Adjusted Rand-Index: 0.032 ± 0.002\n",
      "Silhouette Coefficient: 0.016 ± 0.001\n",
      "__________________________\n",
      "clustering done in 4.11 ± 0.03 s \n",
      "inertia: 2931.161 ± 0.000\n",
      "Homogeneity: 0.421 ± 0.000\n",
      "Completeness: 0.137 ± 0.000\n",
      "V-measure: 0.206 ± 0.000\n",
      "Adjusted Rand-Index: 0.030 ± 0.000\n",
      "Silhouette Coefficient: 0.012 ± 0.000\n"
     ]
    }
   ],
   "source": [
    "evaluations = []\n",
    "evaluations_std = []\n",
    "\n",
    "\n",
    "from sklearn.cluster import KMeans\n",
    "\n",
    "kmeans = KMeans(\n",
    "    n_clusters=true_k,\n",
    "    max_iter=100,\n",
    "    n_init=1,\n",
    "    init='random'\n",
    ")\n",
    "fit_and_evaluate(kmeans, X_tfidf, name=\"KMeans random \\non  tf-idf vectors\", n_runs=10)\n",
    "\n",
    "print(\"__________________________\")\n",
    "kmeans = KMeans(\n",
    "    n_clusters=true_k,\n",
    "    max_iter=100,\n",
    "    n_init=1,\n",
    "\n",
    ")\n",
    "fit_and_evaluate(kmeans, X_tfidf, name=\"KMeans++\\non tf-idf vectors\", n_runs=10)\n",
    "print(\"__________________________\")\n",
    "\n",
    "kmeans = KMeans(\n",
    "    n_clusters=true_k,\n",
    "    max_iter=100,\n",
    "    n_init=1,\n",
    "    init=centroids\n",
    ")\n",
    "fit_and_evaluate(kmeans, X_tfidf, name=\"KMeans\\non LSH\",seek_time=initializing_time)\n"
   ]
  },
  {
   "cell_type": "code",
   "execution_count": 20,
   "id": "c65c2bc0",
   "metadata": {},
   "outputs": [
    {
     "data": {
      "image/png": "[encoded data removed]",
      "text/plain": [
       "<Figure size 1152x432 with 3 Axes>"
      ]
     },
     "metadata": {
      "needs_background": "light"
     },
     "output_type": "display_data"
    }
   ],
   "source": [
    "\n",
    "\n",
    "# Plot\n",
    "import matplotlib.pyplot as plt\n",
    "import pandas as pd\n",
    "\n",
    "fig, (ax0, ax1,ax2) = plt.subplots(ncols=3, figsize=(16, 6), sharey=True)\n",
    "\n",
    "df = pd.DataFrame(evaluations[::-1]).set_index(\"estimator\")\n",
    "df_std = pd.DataFrame(evaluations_std[::-1]).set_index(\"estimator\")\n",
    "\n",
    "df.drop(\n",
    "    [\"train_time\",'inertia'],\n",
    "    axis=\"columns\",\n",
    ").plot.barh(ax=ax0, xerr=df_std)\n",
    "ax0.set_xlabel(\"Clustering scores\")\n",
    "ax0.set_ylabel(\"\")\n",
    "\n",
    "df[\"train_time\"].plot.barh(ax=ax1, xerr=df_std[\"train_time\"])\n",
    "ax1.set_xlabel(\"Clustering time (s)\")\n",
    "\n",
    "\n",
    "df[['inertia']].plot.barh(ax=ax2,xerr=df_std)\n",
    "ax2.set_xlabel(\"Clustering cost\")\n",
    "ax2.set_ylabel(\"\")\n",
    "\n",
    "\n",
    "plt.tight_layout()\n",
    "plt.show()\n",
    "\n"
   ]
  }
 ],
 "metadata": {
  "kernelspec": {
   "display_name": "Python 3 (ipykernel)",
   "language": "python",
   "name": "python3"
  },
  "language_info": {
   "codemirror_mode": {
    "name": "ipython",
    "version": 3
   },
   "file_extension": ".py",
   "mimetype": "text/x-python",
   "name": "python",
   "nbconvert_exporter": "python",
   "pygments_lexer": "ipython3",
   "version": "3.8.10"
  }
 },
 "nbformat": 4,
 "nbformat_minor": 5
}
